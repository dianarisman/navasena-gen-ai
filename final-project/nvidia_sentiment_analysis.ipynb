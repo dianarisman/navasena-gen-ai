{
  "cells": [
    {
      "cell_type": "code",
      "execution_count": 1,
      "metadata": {
        "colab": {
          "base_uri": "https://localhost:8080/"
        },
        "id": "nVeVTsHmJscF",
        "outputId": "3c555f1d-f637-46b1-ca81-7b680d0fa37a"
      },
      "outputs": [
        {
          "output_type": "stream",
          "name": "stdout",
          "text": [
            "Mounted at /content/drive\n"
          ]
        }
      ],
      "source": [
        "from google.colab import drive\n",
        "drive.mount('/content/drive')"
      ]
    },
    {
      "cell_type": "markdown",
      "metadata": {
        "id": "ea4zuR_GXmx7"
      },
      "source": [
        "# Preprocess the Amazon product reviews data.\n",
        "\n",
        "Download the Dataset from kaggle"
      ]
    },
    {
      "cell_type": "code",
      "execution_count": null,
      "metadata": {
        "colab": {
          "base_uri": "https://localhost:8080/"
        },
        "id": "GEArBPZRmzmD",
        "outputId": "e1e68916-e793-4a71-ee4c-ff08bf444bde"
      },
      "outputs": [
        {
          "name": "stdout",
          "output_type": "stream",
          "text": [
            "Dataset URL: https://www.kaggle.com/datasets/bittlingmayer/amazonreviews\n",
            "License(s): unknown\n",
            "Downloading amazonreviews.zip to /content\n",
            " 98% 482M/493M [00:04<00:00, 105MB/s]\n",
            "100% 493M/493M [00:04<00:00, 118MB/s]\n"
          ]
        }
      ],
      "source": [
        "!kaggle datasets download -d bittlingmayer/amazonreviews\n"
      ]
    },
    {
      "cell_type": "code",
      "execution_count": null,
      "metadata": {
        "colab": {
          "base_uri": "https://localhost:8080/"
        },
        "id": "VDWxvEMloPzU",
        "outputId": "1e97161c-4338-43af-e66d-4579a6426231"
      },
      "outputs": [
        {
          "name": "stdout",
          "output_type": "stream",
          "text": [
            "Archive:  /content/drive/MyDrive/amazonreviews-dataset/amazonreviews.zip\n",
            "  inflating: /content/drive/MyDrive/amazonreviews-dataset/test.ft.txt.bz2  \n",
            "  inflating: /content/drive/MyDrive/amazonreviews-dataset/train.ft.txt.bz2  \n"
          ]
        }
      ],
      "source": [
        "# Unzip the dataset\n",
        "!unzip /content/drive/MyDrive/amazonreviews-dataset/amazonreviews.zip -d /content/drive/MyDrive/amazonreviews-dataset"
      ]
    },
    {
      "cell_type": "markdown",
      "metadata": {
        "id": "VDkZ7IkD9gpU"
      },
      "source": [
        "# Implement and fine-tune an LLM using NVIDIA NeMo for sentiment classification.\n",
        "\n",
        "Kami tidak menggunakan NVIDIA’s NLP models.\n",
        "Model nvidia/Aegis-AI-Content-Safety-LlamaGuard-Defensive-1.0 difokuskan untuk content safety atau moderasi konten, bukan untuk sentiment analysis atau analisis review produk. Model ini dirancang oleh NVIDIA untuk mendeteksi dan memoderasi konten yang tidak aman atau sensitif, seperti bahasa yang tidak pantas, konten berbahaya, atau bahasa yang melanggar aturan komunitas\n",
        "\n",
        "Untuk analisis review produk, terutama untuk sentimen atau pemahaman konteks pengguna, model yang lebih cocok adalah model yang dilatih untuk sentiment analysis atau analisis teks yang fokus pada ulasan pelanggan. Beberapa pilihan alternatif yang bisa lebih sesuai adalah:\n",
        "\n",
        "Sentiment Analysis Model dari Hugging Face:\n",
        "\n",
        "\n",
        "* nlptown/bert-base-multilingual-uncased-sentiment: BERT model yang mendukung beberapa bahasa dan cocok untuk analisis sentimen, baik positif maupun negatif.\n",
        "* distilbert-base-uncased-finetuned-sst-2-english: Versi lebih ringan dari BERT yang dirancang untuk mengklasifikasikan teks dalam dua kelas, positif dan negatif, dan sering digunakan untuk review produk."
      ]
    },
    {
      "cell_type": "code",
      "execution_count": null,
      "metadata": {
        "id": "oMTOBOe99eBI"
      },
      "outputs": [],
      "source": [
        "!pip install transformers pandas\n"
      ]
    },
    {
      "cell_type": "markdown",
      "metadata": {
        "id": "6waCHitRnUAe"
      },
      "source": [
        "Load and Decompress the Dataset"
      ]
    },
    {
      "cell_type": "code",
      "execution_count": null,
      "metadata": {
        "id": "Hkig5-UOIfhc"
      },
      "outputs": [],
      "source": [
        "import pandas as pd\n",
        "import bz2\n",
        "from transformers import pipeline\n",
        "from sklearn.metrics import classification_report\n",
        "\n",
        "gdrive_dir = '/content/drive/MyDrive/amazonreviews-dataset/'\n",
        "train_dir = gdrive_dir + 'train.ft.txt.bz2'\n",
        "test_dir = gdrive_dir + 'test.ft.txt.bz2'\n",
        "\n",
        "with bz2.open(train_dir, 'rt') as f:\n",
        "    data = f.readlines()\n",
        "\n",
        "# with bz2.BZ2File(train_dir, 'rb') as f:\n",
        "#     data = f.read().decode('utf-8').splitlines()\n",
        "\n",
        "# Check the total lines and the first few entries\n",
        "print(\"Total lines in dataset:\", len(data))\n",
        "for line in data[:5]:\n",
        "    print(line.strip())\n",
        "\n",
        "# Prepare valid reviews\n",
        "reviews = []\n",
        "for line in data:\n",
        "    # Split the line on the first space to separate the label from the review\n",
        "    parts = line.strip().split(' ', 1)  # Split only on the first space\n",
        "    if len(parts) == 2:  # Check if the line has the expected number of columns\n",
        "        reviews.append(parts)\n",
        "\n",
        "# Create DataFrame from valid reviews\n",
        "df = pd.DataFrame(reviews, columns=['sentiment', 'reviewText'])\n",
        "\n",
        "# Check the resulting DataFrame\n",
        "print(\"DataFrame shape:\", df.shape)\n",
        "print(\"DataFrame head:\")\n",
        "print(df.head())"
      ]
    },
    {
      "cell_type": "markdown",
      "metadata": {
        "id": "I7SR5desLqH-"
      },
      "source": [
        "Preprocess the Data Clean and label the sentiment based on the dataset. The first column usually indicates the sentiment label."
      ]
    },
    {
      "cell_type": "code",
      "execution_count": 4,
      "metadata": {
        "colab": {
          "base_uri": "https://localhost:8080/"
        },
        "id": "fNtHEkQfL0qg",
        "outputId": "2825c5b8-3a9c-47af-9dd2-5c76c5a2b36f"
      },
      "outputs": [
        {
          "output_type": "stream",
          "name": "stdout",
          "text": [
            "0          positive\n",
            "1          positive\n",
            "2          positive\n",
            "3          positive\n",
            "4          positive\n",
            "             ...   \n",
            "3599995    negative\n",
            "3599996    negative\n",
            "3599997    negative\n",
            "3599998    negative\n",
            "3599999    positive\n",
            "Name: mapped_sentiment, Length: 3600000, dtype: object\n"
          ]
        }
      ],
      "source": [
        "# Check the unique sentiment labels\n",
        "#print(df['sentiment'].unique())\n",
        "\n",
        "# Map sentiments to a simpler format\n",
        "sentiment_mapping = {\n",
        "    '__label__1': 'negative',\n",
        "    '__label__2': 'positive'\n",
        "}\n",
        "\n",
        "df['mapped_sentiment'] = df['sentiment'].map(sentiment_mapping)\n",
        "print(df['mapped_sentiment'])\n"
      ]
    },
    {
      "cell_type": "markdown",
      "metadata": {
        "id": "1MHiAHCwMGk7"
      },
      "source": [
        "Load the Pre-trained Sentiment Analysis Model Use the nlptown/bert-base-multilingual-uncased-sentiment model for sentiment analysis."
      ]
    },
    {
      "cell_type": "code",
      "execution_count": 5,
      "metadata": {
        "colab": {
          "base_uri": "https://localhost:8080/",
          "height": 336,
          "referenced_widgets": [
            "c443e9e093064aadaf5932e73bfd02d9",
            "b2b9007848f94047b3a68a2787016d03",
            "821a1e6a132c4de7a2e4e732cca0cb5e",
            "26923531b1df4db4936c49e17f8b3170",
            "febcc703b8404172b03738942248b50b",
            "f133341d9e8941ffb8809173e3773db5",
            "2fc8c3f88bf7418c95c67996ae6e34fb",
            "8acdf9c8c3e74805bb7826a9f1f287a0",
            "0e33404a004040419716baa4af44912b",
            "c4ce4dd030da451e816a68200287565d",
            "0d51cfcadad145dbbcbb0801c636e502",
            "405f97a5fee44de8b2c3793b0b1a3aa6",
            "8aa84e58e6a2434fab2a52992053ec1b",
            "916e889eb45f49808c6abf8023d079ad",
            "855e1a798bf94c659c7081f59d7d0543",
            "77ff8ae5191841a2ac336519673362d6",
            "57c018dba5434d6197274d99d9d9499d",
            "fdde56413cc14e1f90a334943d7ceb29",
            "02af9261c3c74b13a7b1c2ef6b51d7f8",
            "b80b20e0ba9d4c56b74a7b3147c4ed22",
            "c3cc088ae1a44127b568d14a7818d991",
            "7bee614c461f41e99f29c1e3fbea6173",
            "0ec308e05f5e4c25bafdfeb44f95bdc3",
            "ee3da862f5f24c7bba6e430f1dc8fc2c",
            "1c3c79243038453e894ad32eece57f37",
            "d36531047c084576abcb64eb67c571e1",
            "a6b94edff3bc4ee39f3a911a6ba9362c",
            "4d818a66875040e19dcd0a4a085c501c",
            "e4395c6b8c71419d9558fb6c505a4cdc",
            "64fe5d6d4e9a41118d2f813edc128a81",
            "b81e688d261a466ebfffe59f56b09d4b",
            "19993f617e3c4f3a92751819ba6a9377",
            "9ae84da9736943d6ad32fd3d2e891604",
            "686c8b3bdc8645b6b4ff9500590cbb36",
            "1c2839cc17c14b67ac9c693f57e7d768",
            "388f87c2529c477a9a34035d6bbe2bba",
            "ca4f8d59429f497386b461e35f39b466",
            "01206bd72de4451882b5408dac620baf",
            "a2eade38c23648ce8883f0d5992655c2",
            "e7660d853de84ebe827b4527bcb4f00e",
            "a8993d29544e4fa39583cdbfed60a924",
            "72b0e721bf004d48956768a838cf35c9",
            "fc61c3ccf803400c8286bb7a728e2565",
            "52e011e39c8d4e22bc62a635abb8555f",
            "b9cac5050ee74299907f828a87f59592",
            "3b4f613fd0cf4ec7a33fc5e69b5f4f63",
            "8d75a1751af34f0d8dfeb71f257d4cfe",
            "855fe84e3f054825970feb9b56702ae1",
            "2f57620b0043433aa5ba30ec9415902f",
            "9619d069dfbe45d6a3ae91120aa37544",
            "c03f04df2c91439ea00005460913dded",
            "2907f97324124718a5b2ced7eefdc287",
            "2f69abc799d1434b92c54d2d8168ce84",
            "71bb8a9e1f62413bb58e8c7ba17865a7",
            "ca896bf8d9794ef6a20613783b407bde"
          ]
        },
        "id": "s6W-JuwUMNcU",
        "outputId": "c7372c91-cf9a-4b8b-8baf-51476501d820"
      },
      "outputs": [
        {
          "output_type": "stream",
          "name": "stderr",
          "text": [
            "/usr/local/lib/python3.10/dist-packages/huggingface_hub/utils/_token.py:89: UserWarning: \n",
            "The secret `HF_TOKEN` does not exist in your Colab secrets.\n",
            "To authenticate with the Hugging Face Hub, create a token in your settings tab (https://huggingface.co/settings/tokens), set it as secret in your Google Colab and restart your session.\n",
            "You will be able to reuse this secret in all of your notebooks.\n",
            "Please note that authentication is recommended but still optional to access public models or datasets.\n",
            "  warnings.warn(\n"
          ]
        },
        {
          "output_type": "display_data",
          "data": {
            "text/plain": [
              "config.json:   0%|          | 0.00/953 [00:00<?, ?B/s]"
            ],
            "application/vnd.jupyter.widget-view+json": {
              "version_major": 2,
              "version_minor": 0,
              "model_id": "c443e9e093064aadaf5932e73bfd02d9"
            }
          },
          "metadata": {}
        },
        {
          "output_type": "display_data",
          "data": {
            "text/plain": [
              "pytorch_model.bin:   0%|          | 0.00/669M [00:00<?, ?B/s]"
            ],
            "application/vnd.jupyter.widget-view+json": {
              "version_major": 2,
              "version_minor": 0,
              "model_id": "405f97a5fee44de8b2c3793b0b1a3aa6"
            }
          },
          "metadata": {}
        },
        {
          "output_type": "display_data",
          "data": {
            "text/plain": [
              "tokenizer_config.json:   0%|          | 0.00/39.0 [00:00<?, ?B/s]"
            ],
            "application/vnd.jupyter.widget-view+json": {
              "version_major": 2,
              "version_minor": 0,
              "model_id": "0ec308e05f5e4c25bafdfeb44f95bdc3"
            }
          },
          "metadata": {}
        },
        {
          "output_type": "display_data",
          "data": {
            "text/plain": [
              "vocab.txt:   0%|          | 0.00/872k [00:00<?, ?B/s]"
            ],
            "application/vnd.jupyter.widget-view+json": {
              "version_major": 2,
              "version_minor": 0,
              "model_id": "686c8b3bdc8645b6b4ff9500590cbb36"
            }
          },
          "metadata": {}
        },
        {
          "output_type": "display_data",
          "data": {
            "text/plain": [
              "special_tokens_map.json:   0%|          | 0.00/112 [00:00<?, ?B/s]"
            ],
            "application/vnd.jupyter.widget-view+json": {
              "version_major": 2,
              "version_minor": 0,
              "model_id": "b9cac5050ee74299907f828a87f59592"
            }
          },
          "metadata": {}
        },
        {
          "output_type": "stream",
          "name": "stderr",
          "text": [
            "/usr/local/lib/python3.10/dist-packages/transformers/tokenization_utils_base.py:1601: FutureWarning: `clean_up_tokenization_spaces` was not set. It will be set to `True` by default. This behavior will be depracted in transformers v4.45, and will be then set to `False` by default. For more details check this issue: https://github.com/huggingface/transformers/issues/31884\n",
            "  warnings.warn(\n"
          ]
        }
      ],
      "source": [
        "from transformers import pipeline\n",
        "\n",
        "# Load the sentiment analysis pipeline\n",
        "sentiment_pipeline = pipeline(\"sentiment-analysis\", model=\"nlptown/bert-base-multilingual-uncased-sentiment\")\n"
      ]
    },
    {
      "cell_type": "markdown",
      "source": [
        "# Utilize prompt engineering to optimize sentiment analysis accuracy.\n",
        "\n",
        "Sebelum melakukan analisis sentimen, sangat penting untuk membersihkan teks ulasan. Ini termasuk menghapus karakter khusus, menghapus kata-kata yang tidak penting (stopwords), dan melakukan stemming atau lemmatization. Dengan pembersihan yang baik, model dapat lebih akurat dalam menentukan sentimen."
      ],
      "metadata": {
        "id": "KSP_-JRwrkp_"
      }
    },
    {
      "cell_type": "code",
      "source": [
        "import re\n",
        "from nltk.corpus import stopwords\n",
        "\n",
        "def clean_text(text):\n",
        "    text = re.sub(r'[^a-zA-Z\\s]', '', text)  # Menghapus karakter non-alfabet\n",
        "    text = text.lower()  # Mengubah ke huruf kecil\n",
        "    text = ' '.join(word for word in text.split() if word not in stopwords.words('english'))  # Menghapus stopwords\n",
        "    return text\n",
        "\n",
        "df['cleaned_review'] = df['reviewText'].apply(clean_text)\n"
      ],
      "metadata": {
        "id": "7QfJqMl2rpnV"
      },
      "execution_count": null,
      "outputs": []
    },
    {
      "cell_type": "markdown",
      "metadata": {
        "id": "Wx37LpO3Mk05"
      },
      "source": [
        "Analyze Sentiment Use the model to classify the sentiment of the reviews.\n"
      ]
    },
    {
      "cell_type": "code",
      "execution_count": null,
      "metadata": {
        "id": "T14AdA13GKjR"
      },
      "outputs": [],
      "source": [
        "# Prepare the reviews for sentiment analysis\n",
        "review_texts = df['cleaned_review'].tolist()\n",
        "print(review_texts)\n",
        "\n",
        "# Analyze sentiment\n",
        "predictions = sentiment_pipeline(review_texts)\n",
        "\n",
        "# Extract sentiment labels and scores\n",
        "df['predicted_sentiment'] = [pred['label'] for pred in predictions]\n",
        "df['predicted_score'] = [pred['score'] for pred in predictions]\n",
        "\n",
        "# Define your labels explicitly if necessary\n",
        "target_names = ['negative', 'positive']  # Modify based on your classes\n",
        "\n"
      ]
    },
    {
      "cell_type": "markdown",
      "source": [
        "# Evaluate the model’s performance using metrics like accuracy, precision, recall, and F1-score.\n",
        "\n",
        "Menggunakan fungsi classification_report dari sklearn.metrics. Ini adalah fungsi yang memungkinkan Anda untuk menghitung dan menampilkan metrik evaluasi untuk model klasifikasi.\n",
        "\n",
        "Penjelasan:\n",
        "classification_report: Fungsi ini mengambil dua argumen:\n",
        "\n",
        "reviews['sentiment']: Ini adalah label sentimen aktual yang telah ditentukan sebelumnya berdasarkan penilaian keseluruhan.\n",
        "reviews['mapped_sentiment']: Ini adalah label sentimen yang diprediksi oleh model berdasarkan ulasan yang dianalisis.\n",
        "Metrik yang Dihasilkan: Fungsi ini menghasilkan laporan yang mencakup:\n",
        "\n",
        "Akurasi: Persentase prediksi yang benar dari total prediksi.\n",
        "Presisi: Rasio prediksi positif yang benar terhadap total prediksi positif.\n",
        "Perolehan (Recall): Rasio prediksi positif yang benar terhadap total aktual positif.\n",
        "Skor F1: Rata-rata harmonis dari presisi dan perolehan, memberikan gambaran umum tentang keseimbangan antara keduanya.\n"
      ],
      "metadata": {
        "id": "y9eDFb0huwby"
      }
    },
    {
      "cell_type": "code",
      "source": [
        "# Evaluate the model\n",
        "print(\"Mapped Sentiment:\", df['mapped_sentiment'].unique())\n",
        "print(\"Predicted Sentiment:\", df['predicted_sentiment'].unique())\n",
        "#classification_report: This function provides precision, recall, F1-score, and support for each class.\n",
        "print(classification_report(df['mapped_sentiment'], df['predicted_sentiment'], target_names=target_names))\n",
        "\n",
        "# Display the first few results\n",
        "print(df[['reviewText', 'mapped_sentiment', 'predicted_sentiment', 'predicted_score']].head())\n",
        "\n",
        "# Calculate and print overall accuracy\n",
        "#accuracy_score: This function calculates the overall accuracy of the model.\n",
        "accuracy = accuracy_score(df['mapped_sentiment'], df['predicted_sentiment'])\n",
        "print(\"Accuracy:\", accuracy)"
      ],
      "metadata": {
        "id": "RT894cwDukxa"
      },
      "execution_count": null,
      "outputs": []
    },
    {
      "cell_type": "code",
      "execution_count": null,
      "metadata": {
        "id": "DE_iCAZFOtGK"
      },
      "outputs": [],
      "source": [
        "# Save the results to a CSV file\n",
        "df.to_csv('amazon_reviews_with_sentiment.csv', index=False)\n"
      ]
    },
    {
      "cell_type": "markdown",
      "source": [
        "# Visualize sentiment distribution and key insights.\n",
        "\n",
        "Distribusi Sentimen Aktual dan Prediksi\n",
        "Visualisasi distribusi sentimen dapat memberikan gambaran tentang bagaimana data dan prediksi model tersebar. Diagram batang (bar plot) adalah salah satu cara efektif untuk melihat ini."
      ],
      "metadata": {
        "id": "tFl42jnMw2lI"
      }
    },
    {
      "cell_type": "code",
      "source": [
        "import matplotlib.pyplot as plt\n",
        "import seaborn as sns\n",
        "\n",
        "# Plot distribusi sentimen aktual\n",
        "plt.figure(figsize=(12, 6))\n",
        "sns.countplot(x='sentiment', data=reviews, palette=\"viridis\")\n",
        "plt.title(\"Distribusi Sentimen Aktual\")\n",
        "plt.xlabel(\"Sentimen\")\n",
        "plt.ylabel(\"Jumlah\")\n",
        "plt.show()\n",
        "\n",
        "# Plot distribusi sentimen yang diprediksi\n",
        "plt.figure(figsize=(12, 6))\n",
        "sns.countplot(x='mapped_sentiment', data=reviews, palette=\"viridis\")\n",
        "plt.title(\"Distribusi Sentimen yang Diprediksi\")\n",
        "plt.xlabel(\"Sentimen yang Diprediksi\")\n",
        "plt.ylabel(\"Jumlah\")\n",
        "plt.show()\n"
      ],
      "metadata": {
        "id": "hvJaL8rOw318"
      },
      "execution_count": null,
      "outputs": []
    },
    {
      "cell_type": "markdown",
      "source": [],
      "metadata": {
        "id": "BOG9ACoe1E0A"
      }
    },
    {
      "cell_type": "markdown",
      "source": [
        "# Assess and mitigate any biases in the sentiment analysis model\n",
        "\n"
      ],
      "metadata": {
        "id": "G-uG-tihxAzW"
      }
    },
    {
      "cell_type": "markdown",
      "source": [
        "1. Penilaian Bias dalam Model\n",
        "\n",
        "\n",
        "*   Analisis Distribusi Sentimen: Lakukan analisis pada data latih dan data prediksi untuk melihat apakah model cenderung memberikan prediksi tertentu lebih sering, misalnya lebih sering memberikan label \"positif\" dibanding \"netral\" atau \"negatif\".\n",
        "\n",
        "*   Evaluasi Performa Berdasarkan Subkelompok Bahasa: nlptown/bert-base-multilingual-uncased-sentiment adalah model multibahasa, tetapi mungkin lebih efektif pada bahasa tertentu. Anda bisa menguji prediksi pada data berbahasa berbeda untuk melihat apakah terdapat bias dalam performa.\n",
        "\n"
      ],
      "metadata": {
        "id": "MUh-7uMV0h-7"
      }
    },
    {
      "cell_type": "markdown",
      "source": [
        "2. Menggunakan Metrik Keadilan dan Analisis Mendalam\n",
        "\n",
        "Menggunakan Confusion Matrix untuk mengevaluasi keadilan. Ini akan membantu Anda melihat bagaimana model bekerja di seluruh kelas sentimen:\n",
        "\n"
      ],
      "metadata": {
        "id": "BmLFdyKT1Flt"
      }
    },
    {
      "cell_type": "code",
      "source": [
        "from sklearn.metrics import confusion_matrix, classification_report\n",
        "\n",
        "# Evaluasi performa berdasarkan label prediksi\n",
        "cm = confusion_matrix(reviews['sentiment'], reviews['predicted_sentiment'])\n",
        "print(cm)\n",
        "print(classification_report(reviews['sentiment'], reviews['predicted_sentiment']))\n"
      ],
      "metadata": {
        "id": "rP8S9fXe1Leb"
      },
      "execution_count": null,
      "outputs": []
    },
    {
      "cell_type": "markdown",
      "source": [
        "# Tools\n",
        "\n",
        "Kami menggunakan General Transformers. Karena model yang kami pakai model berbasis transformers biasa/bukan class Nemo"
      ],
      "metadata": {
        "id": "mn-MmUxT2zBT"
      }
    }
  ],
  "metadata": {
    "accelerator": "GPU",
    "colab": {
      "gpuType": "T4",
      "provenance": [],
      "toc_visible": true
    },
    "kernelspec": {
      "display_name": "Python 3",
      "name": "python3"
    },
    "language_info": {
      "name": "python"
    },
    "widgets": {
      "application/vnd.jupyter.widget-state+json": {
        "c443e9e093064aadaf5932e73bfd02d9": {
          "model_module": "@jupyter-widgets/controls",
          "model_name": "HBoxModel",
          "model_module_version": "1.5.0",
          "state": {
            "_dom_classes": [],
            "_model_module": "@jupyter-widgets/controls",
            "_model_module_version": "1.5.0",
            "_model_name": "HBoxModel",
            "_view_count": null,
            "_view_module": "@jupyter-widgets/controls",
            "_view_module_version": "1.5.0",
            "_view_name": "HBoxView",
            "box_style": "",
            "children": [
              "IPY_MODEL_b2b9007848f94047b3a68a2787016d03",
              "IPY_MODEL_821a1e6a132c4de7a2e4e732cca0cb5e",
              "IPY_MODEL_26923531b1df4db4936c49e17f8b3170"
            ],
            "layout": "IPY_MODEL_febcc703b8404172b03738942248b50b"
          }
        },
        "b2b9007848f94047b3a68a2787016d03": {
          "model_module": "@jupyter-widgets/controls",
          "model_name": "HTMLModel",
          "model_module_version": "1.5.0",
          "state": {
            "_dom_classes": [],
            "_model_module": "@jupyter-widgets/controls",
            "_model_module_version": "1.5.0",
            "_model_name": "HTMLModel",
            "_view_count": null,
            "_view_module": "@jupyter-widgets/controls",
            "_view_module_version": "1.5.0",
            "_view_name": "HTMLView",
            "description": "",
            "description_tooltip": null,
            "layout": "IPY_MODEL_f133341d9e8941ffb8809173e3773db5",
            "placeholder": "​",
            "style": "IPY_MODEL_2fc8c3f88bf7418c95c67996ae6e34fb",
            "value": "config.json: 100%"
          }
        },
        "821a1e6a132c4de7a2e4e732cca0cb5e": {
          "model_module": "@jupyter-widgets/controls",
          "model_name": "FloatProgressModel",
          "model_module_version": "1.5.0",
          "state": {
            "_dom_classes": [],
            "_model_module": "@jupyter-widgets/controls",
            "_model_module_version": "1.5.0",
            "_model_name": "FloatProgressModel",
            "_view_count": null,
            "_view_module": "@jupyter-widgets/controls",
            "_view_module_version": "1.5.0",
            "_view_name": "ProgressView",
            "bar_style": "success",
            "description": "",
            "description_tooltip": null,
            "layout": "IPY_MODEL_8acdf9c8c3e74805bb7826a9f1f287a0",
            "max": 953,
            "min": 0,
            "orientation": "horizontal",
            "style": "IPY_MODEL_0e33404a004040419716baa4af44912b",
            "value": 953
          }
        },
        "26923531b1df4db4936c49e17f8b3170": {
          "model_module": "@jupyter-widgets/controls",
          "model_name": "HTMLModel",
          "model_module_version": "1.5.0",
          "state": {
            "_dom_classes": [],
            "_model_module": "@jupyter-widgets/controls",
            "_model_module_version": "1.5.0",
            "_model_name": "HTMLModel",
            "_view_count": null,
            "_view_module": "@jupyter-widgets/controls",
            "_view_module_version": "1.5.0",
            "_view_name": "HTMLView",
            "description": "",
            "description_tooltip": null,
            "layout": "IPY_MODEL_c4ce4dd030da451e816a68200287565d",
            "placeholder": "​",
            "style": "IPY_MODEL_0d51cfcadad145dbbcbb0801c636e502",
            "value": " 953/953 [00:00&lt;00:00, 42.3kB/s]"
          }
        },
        "febcc703b8404172b03738942248b50b": {
          "model_module": "@jupyter-widgets/base",
          "model_name": "LayoutModel",
          "model_module_version": "1.2.0",
          "state": {
            "_model_module": "@jupyter-widgets/base",
            "_model_module_version": "1.2.0",
            "_model_name": "LayoutModel",
            "_view_count": null,
            "_view_module": "@jupyter-widgets/base",
            "_view_module_version": "1.2.0",
            "_view_name": "LayoutView",
            "align_content": null,
            "align_items": null,
            "align_self": null,
            "border": null,
            "bottom": null,
            "display": null,
            "flex": null,
            "flex_flow": null,
            "grid_area": null,
            "grid_auto_columns": null,
            "grid_auto_flow": null,
            "grid_auto_rows": null,
            "grid_column": null,
            "grid_gap": null,
            "grid_row": null,
            "grid_template_areas": null,
            "grid_template_columns": null,
            "grid_template_rows": null,
            "height": null,
            "justify_content": null,
            "justify_items": null,
            "left": null,
            "margin": null,
            "max_height": null,
            "max_width": null,
            "min_height": null,
            "min_width": null,
            "object_fit": null,
            "object_position": null,
            "order": null,
            "overflow": null,
            "overflow_x": null,
            "overflow_y": null,
            "padding": null,
            "right": null,
            "top": null,
            "visibility": null,
            "width": null
          }
        },
        "f133341d9e8941ffb8809173e3773db5": {
          "model_module": "@jupyter-widgets/base",
          "model_name": "LayoutModel",
          "model_module_version": "1.2.0",
          "state": {
            "_model_module": "@jupyter-widgets/base",
            "_model_module_version": "1.2.0",
            "_model_name": "LayoutModel",
            "_view_count": null,
            "_view_module": "@jupyter-widgets/base",
            "_view_module_version": "1.2.0",
            "_view_name": "LayoutView",
            "align_content": null,
            "align_items": null,
            "align_self": null,
            "border": null,
            "bottom": null,
            "display": null,
            "flex": null,
            "flex_flow": null,
            "grid_area": null,
            "grid_auto_columns": null,
            "grid_auto_flow": null,
            "grid_auto_rows": null,
            "grid_column": null,
            "grid_gap": null,
            "grid_row": null,
            "grid_template_areas": null,
            "grid_template_columns": null,
            "grid_template_rows": null,
            "height": null,
            "justify_content": null,
            "justify_items": null,
            "left": null,
            "margin": null,
            "max_height": null,
            "max_width": null,
            "min_height": null,
            "min_width": null,
            "object_fit": null,
            "object_position": null,
            "order": null,
            "overflow": null,
            "overflow_x": null,
            "overflow_y": null,
            "padding": null,
            "right": null,
            "top": null,
            "visibility": null,
            "width": null
          }
        },
        "2fc8c3f88bf7418c95c67996ae6e34fb": {
          "model_module": "@jupyter-widgets/controls",
          "model_name": "DescriptionStyleModel",
          "model_module_version": "1.5.0",
          "state": {
            "_model_module": "@jupyter-widgets/controls",
            "_model_module_version": "1.5.0",
            "_model_name": "DescriptionStyleModel",
            "_view_count": null,
            "_view_module": "@jupyter-widgets/base",
            "_view_module_version": "1.2.0",
            "_view_name": "StyleView",
            "description_width": ""
          }
        },
        "8acdf9c8c3e74805bb7826a9f1f287a0": {
          "model_module": "@jupyter-widgets/base",
          "model_name": "LayoutModel",
          "model_module_version": "1.2.0",
          "state": {
            "_model_module": "@jupyter-widgets/base",
            "_model_module_version": "1.2.0",
            "_model_name": "LayoutModel",
            "_view_count": null,
            "_view_module": "@jupyter-widgets/base",
            "_view_module_version": "1.2.0",
            "_view_name": "LayoutView",
            "align_content": null,
            "align_items": null,
            "align_self": null,
            "border": null,
            "bottom": null,
            "display": null,
            "flex": null,
            "flex_flow": null,
            "grid_area": null,
            "grid_auto_columns": null,
            "grid_auto_flow": null,
            "grid_auto_rows": null,
            "grid_column": null,
            "grid_gap": null,
            "grid_row": null,
            "grid_template_areas": null,
            "grid_template_columns": null,
            "grid_template_rows": null,
            "height": null,
            "justify_content": null,
            "justify_items": null,
            "left": null,
            "margin": null,
            "max_height": null,
            "max_width": null,
            "min_height": null,
            "min_width": null,
            "object_fit": null,
            "object_position": null,
            "order": null,
            "overflow": null,
            "overflow_x": null,
            "overflow_y": null,
            "padding": null,
            "right": null,
            "top": null,
            "visibility": null,
            "width": null
          }
        },
        "0e33404a004040419716baa4af44912b": {
          "model_module": "@jupyter-widgets/controls",
          "model_name": "ProgressStyleModel",
          "model_module_version": "1.5.0",
          "state": {
            "_model_module": "@jupyter-widgets/controls",
            "_model_module_version": "1.5.0",
            "_model_name": "ProgressStyleModel",
            "_view_count": null,
            "_view_module": "@jupyter-widgets/base",
            "_view_module_version": "1.2.0",
            "_view_name": "StyleView",
            "bar_color": null,
            "description_width": ""
          }
        },
        "c4ce4dd030da451e816a68200287565d": {
          "model_module": "@jupyter-widgets/base",
          "model_name": "LayoutModel",
          "model_module_version": "1.2.0",
          "state": {
            "_model_module": "@jupyter-widgets/base",
            "_model_module_version": "1.2.0",
            "_model_name": "LayoutModel",
            "_view_count": null,
            "_view_module": "@jupyter-widgets/base",
            "_view_module_version": "1.2.0",
            "_view_name": "LayoutView",
            "align_content": null,
            "align_items": null,
            "align_self": null,
            "border": null,
            "bottom": null,
            "display": null,
            "flex": null,
            "flex_flow": null,
            "grid_area": null,
            "grid_auto_columns": null,
            "grid_auto_flow": null,
            "grid_auto_rows": null,
            "grid_column": null,
            "grid_gap": null,
            "grid_row": null,
            "grid_template_areas": null,
            "grid_template_columns": null,
            "grid_template_rows": null,
            "height": null,
            "justify_content": null,
            "justify_items": null,
            "left": null,
            "margin": null,
            "max_height": null,
            "max_width": null,
            "min_height": null,
            "min_width": null,
            "object_fit": null,
            "object_position": null,
            "order": null,
            "overflow": null,
            "overflow_x": null,
            "overflow_y": null,
            "padding": null,
            "right": null,
            "top": null,
            "visibility": null,
            "width": null
          }
        },
        "0d51cfcadad145dbbcbb0801c636e502": {
          "model_module": "@jupyter-widgets/controls",
          "model_name": "DescriptionStyleModel",
          "model_module_version": "1.5.0",
          "state": {
            "_model_module": "@jupyter-widgets/controls",
            "_model_module_version": "1.5.0",
            "_model_name": "DescriptionStyleModel",
            "_view_count": null,
            "_view_module": "@jupyter-widgets/base",
            "_view_module_version": "1.2.0",
            "_view_name": "StyleView",
            "description_width": ""
          }
        },
        "405f97a5fee44de8b2c3793b0b1a3aa6": {
          "model_module": "@jupyter-widgets/controls",
          "model_name": "HBoxModel",
          "model_module_version": "1.5.0",
          "state": {
            "_dom_classes": [],
            "_model_module": "@jupyter-widgets/controls",
            "_model_module_version": "1.5.0",
            "_model_name": "HBoxModel",
            "_view_count": null,
            "_view_module": "@jupyter-widgets/controls",
            "_view_module_version": "1.5.0",
            "_view_name": "HBoxView",
            "box_style": "",
            "children": [
              "IPY_MODEL_8aa84e58e6a2434fab2a52992053ec1b",
              "IPY_MODEL_916e889eb45f49808c6abf8023d079ad",
              "IPY_MODEL_855e1a798bf94c659c7081f59d7d0543"
            ],
            "layout": "IPY_MODEL_77ff8ae5191841a2ac336519673362d6"
          }
        },
        "8aa84e58e6a2434fab2a52992053ec1b": {
          "model_module": "@jupyter-widgets/controls",
          "model_name": "HTMLModel",
          "model_module_version": "1.5.0",
          "state": {
            "_dom_classes": [],
            "_model_module": "@jupyter-widgets/controls",
            "_model_module_version": "1.5.0",
            "_model_name": "HTMLModel",
            "_view_count": null,
            "_view_module": "@jupyter-widgets/controls",
            "_view_module_version": "1.5.0",
            "_view_name": "HTMLView",
            "description": "",
            "description_tooltip": null,
            "layout": "IPY_MODEL_57c018dba5434d6197274d99d9d9499d",
            "placeholder": "​",
            "style": "IPY_MODEL_fdde56413cc14e1f90a334943d7ceb29",
            "value": "pytorch_model.bin: 100%"
          }
        },
        "916e889eb45f49808c6abf8023d079ad": {
          "model_module": "@jupyter-widgets/controls",
          "model_name": "FloatProgressModel",
          "model_module_version": "1.5.0",
          "state": {
            "_dom_classes": [],
            "_model_module": "@jupyter-widgets/controls",
            "_model_module_version": "1.5.0",
            "_model_name": "FloatProgressModel",
            "_view_count": null,
            "_view_module": "@jupyter-widgets/controls",
            "_view_module_version": "1.5.0",
            "_view_name": "ProgressView",
            "bar_style": "success",
            "description": "",
            "description_tooltip": null,
            "layout": "IPY_MODEL_02af9261c3c74b13a7b1c2ef6b51d7f8",
            "max": 669491321,
            "min": 0,
            "orientation": "horizontal",
            "style": "IPY_MODEL_b80b20e0ba9d4c56b74a7b3147c4ed22",
            "value": 669491321
          }
        },
        "855e1a798bf94c659c7081f59d7d0543": {
          "model_module": "@jupyter-widgets/controls",
          "model_name": "HTMLModel",
          "model_module_version": "1.5.0",
          "state": {
            "_dom_classes": [],
            "_model_module": "@jupyter-widgets/controls",
            "_model_module_version": "1.5.0",
            "_model_name": "HTMLModel",
            "_view_count": null,
            "_view_module": "@jupyter-widgets/controls",
            "_view_module_version": "1.5.0",
            "_view_name": "HTMLView",
            "description": "",
            "description_tooltip": null,
            "layout": "IPY_MODEL_c3cc088ae1a44127b568d14a7818d991",
            "placeholder": "​",
            "style": "IPY_MODEL_7bee614c461f41e99f29c1e3fbea6173",
            "value": " 669M/669M [00:10&lt;00:00, 81.7MB/s]"
          }
        },
        "77ff8ae5191841a2ac336519673362d6": {
          "model_module": "@jupyter-widgets/base",
          "model_name": "LayoutModel",
          "model_module_version": "1.2.0",
          "state": {
            "_model_module": "@jupyter-widgets/base",
            "_model_module_version": "1.2.0",
            "_model_name": "LayoutModel",
            "_view_count": null,
            "_view_module": "@jupyter-widgets/base",
            "_view_module_version": "1.2.0",
            "_view_name": "LayoutView",
            "align_content": null,
            "align_items": null,
            "align_self": null,
            "border": null,
            "bottom": null,
            "display": null,
            "flex": null,
            "flex_flow": null,
            "grid_area": null,
            "grid_auto_columns": null,
            "grid_auto_flow": null,
            "grid_auto_rows": null,
            "grid_column": null,
            "grid_gap": null,
            "grid_row": null,
            "grid_template_areas": null,
            "grid_template_columns": null,
            "grid_template_rows": null,
            "height": null,
            "justify_content": null,
            "justify_items": null,
            "left": null,
            "margin": null,
            "max_height": null,
            "max_width": null,
            "min_height": null,
            "min_width": null,
            "object_fit": null,
            "object_position": null,
            "order": null,
            "overflow": null,
            "overflow_x": null,
            "overflow_y": null,
            "padding": null,
            "right": null,
            "top": null,
            "visibility": null,
            "width": null
          }
        },
        "57c018dba5434d6197274d99d9d9499d": {
          "model_module": "@jupyter-widgets/base",
          "model_name": "LayoutModel",
          "model_module_version": "1.2.0",
          "state": {
            "_model_module": "@jupyter-widgets/base",
            "_model_module_version": "1.2.0",
            "_model_name": "LayoutModel",
            "_view_count": null,
            "_view_module": "@jupyter-widgets/base",
            "_view_module_version": "1.2.0",
            "_view_name": "LayoutView",
            "align_content": null,
            "align_items": null,
            "align_self": null,
            "border": null,
            "bottom": null,
            "display": null,
            "flex": null,
            "flex_flow": null,
            "grid_area": null,
            "grid_auto_columns": null,
            "grid_auto_flow": null,
            "grid_auto_rows": null,
            "grid_column": null,
            "grid_gap": null,
            "grid_row": null,
            "grid_template_areas": null,
            "grid_template_columns": null,
            "grid_template_rows": null,
            "height": null,
            "justify_content": null,
            "justify_items": null,
            "left": null,
            "margin": null,
            "max_height": null,
            "max_width": null,
            "min_height": null,
            "min_width": null,
            "object_fit": null,
            "object_position": null,
            "order": null,
            "overflow": null,
            "overflow_x": null,
            "overflow_y": null,
            "padding": null,
            "right": null,
            "top": null,
            "visibility": null,
            "width": null
          }
        },
        "fdde56413cc14e1f90a334943d7ceb29": {
          "model_module": "@jupyter-widgets/controls",
          "model_name": "DescriptionStyleModel",
          "model_module_version": "1.5.0",
          "state": {
            "_model_module": "@jupyter-widgets/controls",
            "_model_module_version": "1.5.0",
            "_model_name": "DescriptionStyleModel",
            "_view_count": null,
            "_view_module": "@jupyter-widgets/base",
            "_view_module_version": "1.2.0",
            "_view_name": "StyleView",
            "description_width": ""
          }
        },
        "02af9261c3c74b13a7b1c2ef6b51d7f8": {
          "model_module": "@jupyter-widgets/base",
          "model_name": "LayoutModel",
          "model_module_version": "1.2.0",
          "state": {
            "_model_module": "@jupyter-widgets/base",
            "_model_module_version": "1.2.0",
            "_model_name": "LayoutModel",
            "_view_count": null,
            "_view_module": "@jupyter-widgets/base",
            "_view_module_version": "1.2.0",
            "_view_name": "LayoutView",
            "align_content": null,
            "align_items": null,
            "align_self": null,
            "border": null,
            "bottom": null,
            "display": null,
            "flex": null,
            "flex_flow": null,
            "grid_area": null,
            "grid_auto_columns": null,
            "grid_auto_flow": null,
            "grid_auto_rows": null,
            "grid_column": null,
            "grid_gap": null,
            "grid_row": null,
            "grid_template_areas": null,
            "grid_template_columns": null,
            "grid_template_rows": null,
            "height": null,
            "justify_content": null,
            "justify_items": null,
            "left": null,
            "margin": null,
            "max_height": null,
            "max_width": null,
            "min_height": null,
            "min_width": null,
            "object_fit": null,
            "object_position": null,
            "order": null,
            "overflow": null,
            "overflow_x": null,
            "overflow_y": null,
            "padding": null,
            "right": null,
            "top": null,
            "visibility": null,
            "width": null
          }
        },
        "b80b20e0ba9d4c56b74a7b3147c4ed22": {
          "model_module": "@jupyter-widgets/controls",
          "model_name": "ProgressStyleModel",
          "model_module_version": "1.5.0",
          "state": {
            "_model_module": "@jupyter-widgets/controls",
            "_model_module_version": "1.5.0",
            "_model_name": "ProgressStyleModel",
            "_view_count": null,
            "_view_module": "@jupyter-widgets/base",
            "_view_module_version": "1.2.0",
            "_view_name": "StyleView",
            "bar_color": null,
            "description_width": ""
          }
        },
        "c3cc088ae1a44127b568d14a7818d991": {
          "model_module": "@jupyter-widgets/base",
          "model_name": "LayoutModel",
          "model_module_version": "1.2.0",
          "state": {
            "_model_module": "@jupyter-widgets/base",
            "_model_module_version": "1.2.0",
            "_model_name": "LayoutModel",
            "_view_count": null,
            "_view_module": "@jupyter-widgets/base",
            "_view_module_version": "1.2.0",
            "_view_name": "LayoutView",
            "align_content": null,
            "align_items": null,
            "align_self": null,
            "border": null,
            "bottom": null,
            "display": null,
            "flex": null,
            "flex_flow": null,
            "grid_area": null,
            "grid_auto_columns": null,
            "grid_auto_flow": null,
            "grid_auto_rows": null,
            "grid_column": null,
            "grid_gap": null,
            "grid_row": null,
            "grid_template_areas": null,
            "grid_template_columns": null,
            "grid_template_rows": null,
            "height": null,
            "justify_content": null,
            "justify_items": null,
            "left": null,
            "margin": null,
            "max_height": null,
            "max_width": null,
            "min_height": null,
            "min_width": null,
            "object_fit": null,
            "object_position": null,
            "order": null,
            "overflow": null,
            "overflow_x": null,
            "overflow_y": null,
            "padding": null,
            "right": null,
            "top": null,
            "visibility": null,
            "width": null
          }
        },
        "7bee614c461f41e99f29c1e3fbea6173": {
          "model_module": "@jupyter-widgets/controls",
          "model_name": "DescriptionStyleModel",
          "model_module_version": "1.5.0",
          "state": {
            "_model_module": "@jupyter-widgets/controls",
            "_model_module_version": "1.5.0",
            "_model_name": "DescriptionStyleModel",
            "_view_count": null,
            "_view_module": "@jupyter-widgets/base",
            "_view_module_version": "1.2.0",
            "_view_name": "StyleView",
            "description_width": ""
          }
        },
        "0ec308e05f5e4c25bafdfeb44f95bdc3": {
          "model_module": "@jupyter-widgets/controls",
          "model_name": "HBoxModel",
          "model_module_version": "1.5.0",
          "state": {
            "_dom_classes": [],
            "_model_module": "@jupyter-widgets/controls",
            "_model_module_version": "1.5.0",
            "_model_name": "HBoxModel",
            "_view_count": null,
            "_view_module": "@jupyter-widgets/controls",
            "_view_module_version": "1.5.0",
            "_view_name": "HBoxView",
            "box_style": "",
            "children": [
              "IPY_MODEL_ee3da862f5f24c7bba6e430f1dc8fc2c",
              "IPY_MODEL_1c3c79243038453e894ad32eece57f37",
              "IPY_MODEL_d36531047c084576abcb64eb67c571e1"
            ],
            "layout": "IPY_MODEL_a6b94edff3bc4ee39f3a911a6ba9362c"
          }
        },
        "ee3da862f5f24c7bba6e430f1dc8fc2c": {
          "model_module": "@jupyter-widgets/controls",
          "model_name": "HTMLModel",
          "model_module_version": "1.5.0",
          "state": {
            "_dom_classes": [],
            "_model_module": "@jupyter-widgets/controls",
            "_model_module_version": "1.5.0",
            "_model_name": "HTMLModel",
            "_view_count": null,
            "_view_module": "@jupyter-widgets/controls",
            "_view_module_version": "1.5.0",
            "_view_name": "HTMLView",
            "description": "",
            "description_tooltip": null,
            "layout": "IPY_MODEL_4d818a66875040e19dcd0a4a085c501c",
            "placeholder": "​",
            "style": "IPY_MODEL_e4395c6b8c71419d9558fb6c505a4cdc",
            "value": "tokenizer_config.json: 100%"
          }
        },
        "1c3c79243038453e894ad32eece57f37": {
          "model_module": "@jupyter-widgets/controls",
          "model_name": "FloatProgressModel",
          "model_module_version": "1.5.0",
          "state": {
            "_dom_classes": [],
            "_model_module": "@jupyter-widgets/controls",
            "_model_module_version": "1.5.0",
            "_model_name": "FloatProgressModel",
            "_view_count": null,
            "_view_module": "@jupyter-widgets/controls",
            "_view_module_version": "1.5.0",
            "_view_name": "ProgressView",
            "bar_style": "success",
            "description": "",
            "description_tooltip": null,
            "layout": "IPY_MODEL_64fe5d6d4e9a41118d2f813edc128a81",
            "max": 39,
            "min": 0,
            "orientation": "horizontal",
            "style": "IPY_MODEL_b81e688d261a466ebfffe59f56b09d4b",
            "value": 39
          }
        },
        "d36531047c084576abcb64eb67c571e1": {
          "model_module": "@jupyter-widgets/controls",
          "model_name": "HTMLModel",
          "model_module_version": "1.5.0",
          "state": {
            "_dom_classes": [],
            "_model_module": "@jupyter-widgets/controls",
            "_model_module_version": "1.5.0",
            "_model_name": "HTMLModel",
            "_view_count": null,
            "_view_module": "@jupyter-widgets/controls",
            "_view_module_version": "1.5.0",
            "_view_name": "HTMLView",
            "description": "",
            "description_tooltip": null,
            "layout": "IPY_MODEL_19993f617e3c4f3a92751819ba6a9377",
            "placeholder": "​",
            "style": "IPY_MODEL_9ae84da9736943d6ad32fd3d2e891604",
            "value": " 39.0/39.0 [00:00&lt;00:00, 1.47kB/s]"
          }
        },
        "a6b94edff3bc4ee39f3a911a6ba9362c": {
          "model_module": "@jupyter-widgets/base",
          "model_name": "LayoutModel",
          "model_module_version": "1.2.0",
          "state": {
            "_model_module": "@jupyter-widgets/base",
            "_model_module_version": "1.2.0",
            "_model_name": "LayoutModel",
            "_view_count": null,
            "_view_module": "@jupyter-widgets/base",
            "_view_module_version": "1.2.0",
            "_view_name": "LayoutView",
            "align_content": null,
            "align_items": null,
            "align_self": null,
            "border": null,
            "bottom": null,
            "display": null,
            "flex": null,
            "flex_flow": null,
            "grid_area": null,
            "grid_auto_columns": null,
            "grid_auto_flow": null,
            "grid_auto_rows": null,
            "grid_column": null,
            "grid_gap": null,
            "grid_row": null,
            "grid_template_areas": null,
            "grid_template_columns": null,
            "grid_template_rows": null,
            "height": null,
            "justify_content": null,
            "justify_items": null,
            "left": null,
            "margin": null,
            "max_height": null,
            "max_width": null,
            "min_height": null,
            "min_width": null,
            "object_fit": null,
            "object_position": null,
            "order": null,
            "overflow": null,
            "overflow_x": null,
            "overflow_y": null,
            "padding": null,
            "right": null,
            "top": null,
            "visibility": null,
            "width": null
          }
        },
        "4d818a66875040e19dcd0a4a085c501c": {
          "model_module": "@jupyter-widgets/base",
          "model_name": "LayoutModel",
          "model_module_version": "1.2.0",
          "state": {
            "_model_module": "@jupyter-widgets/base",
            "_model_module_version": "1.2.0",
            "_model_name": "LayoutModel",
            "_view_count": null,
            "_view_module": "@jupyter-widgets/base",
            "_view_module_version": "1.2.0",
            "_view_name": "LayoutView",
            "align_content": null,
            "align_items": null,
            "align_self": null,
            "border": null,
            "bottom": null,
            "display": null,
            "flex": null,
            "flex_flow": null,
            "grid_area": null,
            "grid_auto_columns": null,
            "grid_auto_flow": null,
            "grid_auto_rows": null,
            "grid_column": null,
            "grid_gap": null,
            "grid_row": null,
            "grid_template_areas": null,
            "grid_template_columns": null,
            "grid_template_rows": null,
            "height": null,
            "justify_content": null,
            "justify_items": null,
            "left": null,
            "margin": null,
            "max_height": null,
            "max_width": null,
            "min_height": null,
            "min_width": null,
            "object_fit": null,
            "object_position": null,
            "order": null,
            "overflow": null,
            "overflow_x": null,
            "overflow_y": null,
            "padding": null,
            "right": null,
            "top": null,
            "visibility": null,
            "width": null
          }
        },
        "e4395c6b8c71419d9558fb6c505a4cdc": {
          "model_module": "@jupyter-widgets/controls",
          "model_name": "DescriptionStyleModel",
          "model_module_version": "1.5.0",
          "state": {
            "_model_module": "@jupyter-widgets/controls",
            "_model_module_version": "1.5.0",
            "_model_name": "DescriptionStyleModel",
            "_view_count": null,
            "_view_module": "@jupyter-widgets/base",
            "_view_module_version": "1.2.0",
            "_view_name": "StyleView",
            "description_width": ""
          }
        },
        "64fe5d6d4e9a41118d2f813edc128a81": {
          "model_module": "@jupyter-widgets/base",
          "model_name": "LayoutModel",
          "model_module_version": "1.2.0",
          "state": {
            "_model_module": "@jupyter-widgets/base",
            "_model_module_version": "1.2.0",
            "_model_name": "LayoutModel",
            "_view_count": null,
            "_view_module": "@jupyter-widgets/base",
            "_view_module_version": "1.2.0",
            "_view_name": "LayoutView",
            "align_content": null,
            "align_items": null,
            "align_self": null,
            "border": null,
            "bottom": null,
            "display": null,
            "flex": null,
            "flex_flow": null,
            "grid_area": null,
            "grid_auto_columns": null,
            "grid_auto_flow": null,
            "grid_auto_rows": null,
            "grid_column": null,
            "grid_gap": null,
            "grid_row": null,
            "grid_template_areas": null,
            "grid_template_columns": null,
            "grid_template_rows": null,
            "height": null,
            "justify_content": null,
            "justify_items": null,
            "left": null,
            "margin": null,
            "max_height": null,
            "max_width": null,
            "min_height": null,
            "min_width": null,
            "object_fit": null,
            "object_position": null,
            "order": null,
            "overflow": null,
            "overflow_x": null,
            "overflow_y": null,
            "padding": null,
            "right": null,
            "top": null,
            "visibility": null,
            "width": null
          }
        },
        "b81e688d261a466ebfffe59f56b09d4b": {
          "model_module": "@jupyter-widgets/controls",
          "model_name": "ProgressStyleModel",
          "model_module_version": "1.5.0",
          "state": {
            "_model_module": "@jupyter-widgets/controls",
            "_model_module_version": "1.5.0",
            "_model_name": "ProgressStyleModel",
            "_view_count": null,
            "_view_module": "@jupyter-widgets/base",
            "_view_module_version": "1.2.0",
            "_view_name": "StyleView",
            "bar_color": null,
            "description_width": ""
          }
        },
        "19993f617e3c4f3a92751819ba6a9377": {
          "model_module": "@jupyter-widgets/base",
          "model_name": "LayoutModel",
          "model_module_version": "1.2.0",
          "state": {
            "_model_module": "@jupyter-widgets/base",
            "_model_module_version": "1.2.0",
            "_model_name": "LayoutModel",
            "_view_count": null,
            "_view_module": "@jupyter-widgets/base",
            "_view_module_version": "1.2.0",
            "_view_name": "LayoutView",
            "align_content": null,
            "align_items": null,
            "align_self": null,
            "border": null,
            "bottom": null,
            "display": null,
            "flex": null,
            "flex_flow": null,
            "grid_area": null,
            "grid_auto_columns": null,
            "grid_auto_flow": null,
            "grid_auto_rows": null,
            "grid_column": null,
            "grid_gap": null,
            "grid_row": null,
            "grid_template_areas": null,
            "grid_template_columns": null,
            "grid_template_rows": null,
            "height": null,
            "justify_content": null,
            "justify_items": null,
            "left": null,
            "margin": null,
            "max_height": null,
            "max_width": null,
            "min_height": null,
            "min_width": null,
            "object_fit": null,
            "object_position": null,
            "order": null,
            "overflow": null,
            "overflow_x": null,
            "overflow_y": null,
            "padding": null,
            "right": null,
            "top": null,
            "visibility": null,
            "width": null
          }
        },
        "9ae84da9736943d6ad32fd3d2e891604": {
          "model_module": "@jupyter-widgets/controls",
          "model_name": "DescriptionStyleModel",
          "model_module_version": "1.5.0",
          "state": {
            "_model_module": "@jupyter-widgets/controls",
            "_model_module_version": "1.5.0",
            "_model_name": "DescriptionStyleModel",
            "_view_count": null,
            "_view_module": "@jupyter-widgets/base",
            "_view_module_version": "1.2.0",
            "_view_name": "StyleView",
            "description_width": ""
          }
        },
        "686c8b3bdc8645b6b4ff9500590cbb36": {
          "model_module": "@jupyter-widgets/controls",
          "model_name": "HBoxModel",
          "model_module_version": "1.5.0",
          "state": {
            "_dom_classes": [],
            "_model_module": "@jupyter-widgets/controls",
            "_model_module_version": "1.5.0",
            "_model_name": "HBoxModel",
            "_view_count": null,
            "_view_module": "@jupyter-widgets/controls",
            "_view_module_version": "1.5.0",
            "_view_name": "HBoxView",
            "box_style": "",
            "children": [
              "IPY_MODEL_1c2839cc17c14b67ac9c693f57e7d768",
              "IPY_MODEL_388f87c2529c477a9a34035d6bbe2bba",
              "IPY_MODEL_ca4f8d59429f497386b461e35f39b466"
            ],
            "layout": "IPY_MODEL_01206bd72de4451882b5408dac620baf"
          }
        },
        "1c2839cc17c14b67ac9c693f57e7d768": {
          "model_module": "@jupyter-widgets/controls",
          "model_name": "HTMLModel",
          "model_module_version": "1.5.0",
          "state": {
            "_dom_classes": [],
            "_model_module": "@jupyter-widgets/controls",
            "_model_module_version": "1.5.0",
            "_model_name": "HTMLModel",
            "_view_count": null,
            "_view_module": "@jupyter-widgets/controls",
            "_view_module_version": "1.5.0",
            "_view_name": "HTMLView",
            "description": "",
            "description_tooltip": null,
            "layout": "IPY_MODEL_a2eade38c23648ce8883f0d5992655c2",
            "placeholder": "​",
            "style": "IPY_MODEL_e7660d853de84ebe827b4527bcb4f00e",
            "value": "vocab.txt: 100%"
          }
        },
        "388f87c2529c477a9a34035d6bbe2bba": {
          "model_module": "@jupyter-widgets/controls",
          "model_name": "FloatProgressModel",
          "model_module_version": "1.5.0",
          "state": {
            "_dom_classes": [],
            "_model_module": "@jupyter-widgets/controls",
            "_model_module_version": "1.5.0",
            "_model_name": "FloatProgressModel",
            "_view_count": null,
            "_view_module": "@jupyter-widgets/controls",
            "_view_module_version": "1.5.0",
            "_view_name": "ProgressView",
            "bar_style": "success",
            "description": "",
            "description_tooltip": null,
            "layout": "IPY_MODEL_a8993d29544e4fa39583cdbfed60a924",
            "max": 871891,
            "min": 0,
            "orientation": "horizontal",
            "style": "IPY_MODEL_72b0e721bf004d48956768a838cf35c9",
            "value": 871891
          }
        },
        "ca4f8d59429f497386b461e35f39b466": {
          "model_module": "@jupyter-widgets/controls",
          "model_name": "HTMLModel",
          "model_module_version": "1.5.0",
          "state": {
            "_dom_classes": [],
            "_model_module": "@jupyter-widgets/controls",
            "_model_module_version": "1.5.0",
            "_model_name": "HTMLModel",
            "_view_count": null,
            "_view_module": "@jupyter-widgets/controls",
            "_view_module_version": "1.5.0",
            "_view_name": "HTMLView",
            "description": "",
            "description_tooltip": null,
            "layout": "IPY_MODEL_fc61c3ccf803400c8286bb7a728e2565",
            "placeholder": "​",
            "style": "IPY_MODEL_52e011e39c8d4e22bc62a635abb8555f",
            "value": " 872k/872k [00:00&lt;00:00, 10.5MB/s]"
          }
        },
        "01206bd72de4451882b5408dac620baf": {
          "model_module": "@jupyter-widgets/base",
          "model_name": "LayoutModel",
          "model_module_version": "1.2.0",
          "state": {
            "_model_module": "@jupyter-widgets/base",
            "_model_module_version": "1.2.0",
            "_model_name": "LayoutModel",
            "_view_count": null,
            "_view_module": "@jupyter-widgets/base",
            "_view_module_version": "1.2.0",
            "_view_name": "LayoutView",
            "align_content": null,
            "align_items": null,
            "align_self": null,
            "border": null,
            "bottom": null,
            "display": null,
            "flex": null,
            "flex_flow": null,
            "grid_area": null,
            "grid_auto_columns": null,
            "grid_auto_flow": null,
            "grid_auto_rows": null,
            "grid_column": null,
            "grid_gap": null,
            "grid_row": null,
            "grid_template_areas": null,
            "grid_template_columns": null,
            "grid_template_rows": null,
            "height": null,
            "justify_content": null,
            "justify_items": null,
            "left": null,
            "margin": null,
            "max_height": null,
            "max_width": null,
            "min_height": null,
            "min_width": null,
            "object_fit": null,
            "object_position": null,
            "order": null,
            "overflow": null,
            "overflow_x": null,
            "overflow_y": null,
            "padding": null,
            "right": null,
            "top": null,
            "visibility": null,
            "width": null
          }
        },
        "a2eade38c23648ce8883f0d5992655c2": {
          "model_module": "@jupyter-widgets/base",
          "model_name": "LayoutModel",
          "model_module_version": "1.2.0",
          "state": {
            "_model_module": "@jupyter-widgets/base",
            "_model_module_version": "1.2.0",
            "_model_name": "LayoutModel",
            "_view_count": null,
            "_view_module": "@jupyter-widgets/base",
            "_view_module_version": "1.2.0",
            "_view_name": "LayoutView",
            "align_content": null,
            "align_items": null,
            "align_self": null,
            "border": null,
            "bottom": null,
            "display": null,
            "flex": null,
            "flex_flow": null,
            "grid_area": null,
            "grid_auto_columns": null,
            "grid_auto_flow": null,
            "grid_auto_rows": null,
            "grid_column": null,
            "grid_gap": null,
            "grid_row": null,
            "grid_template_areas": null,
            "grid_template_columns": null,
            "grid_template_rows": null,
            "height": null,
            "justify_content": null,
            "justify_items": null,
            "left": null,
            "margin": null,
            "max_height": null,
            "max_width": null,
            "min_height": null,
            "min_width": null,
            "object_fit": null,
            "object_position": null,
            "order": null,
            "overflow": null,
            "overflow_x": null,
            "overflow_y": null,
            "padding": null,
            "right": null,
            "top": null,
            "visibility": null,
            "width": null
          }
        },
        "e7660d853de84ebe827b4527bcb4f00e": {
          "model_module": "@jupyter-widgets/controls",
          "model_name": "DescriptionStyleModel",
          "model_module_version": "1.5.0",
          "state": {
            "_model_module": "@jupyter-widgets/controls",
            "_model_module_version": "1.5.0",
            "_model_name": "DescriptionStyleModel",
            "_view_count": null,
            "_view_module": "@jupyter-widgets/base",
            "_view_module_version": "1.2.0",
            "_view_name": "StyleView",
            "description_width": ""
          }
        },
        "a8993d29544e4fa39583cdbfed60a924": {
          "model_module": "@jupyter-widgets/base",
          "model_name": "LayoutModel",
          "model_module_version": "1.2.0",
          "state": {
            "_model_module": "@jupyter-widgets/base",
            "_model_module_version": "1.2.0",
            "_model_name": "LayoutModel",
            "_view_count": null,
            "_view_module": "@jupyter-widgets/base",
            "_view_module_version": "1.2.0",
            "_view_name": "LayoutView",
            "align_content": null,
            "align_items": null,
            "align_self": null,
            "border": null,
            "bottom": null,
            "display": null,
            "flex": null,
            "flex_flow": null,
            "grid_area": null,
            "grid_auto_columns": null,
            "grid_auto_flow": null,
            "grid_auto_rows": null,
            "grid_column": null,
            "grid_gap": null,
            "grid_row": null,
            "grid_template_areas": null,
            "grid_template_columns": null,
            "grid_template_rows": null,
            "height": null,
            "justify_content": null,
            "justify_items": null,
            "left": null,
            "margin": null,
            "max_height": null,
            "max_width": null,
            "min_height": null,
            "min_width": null,
            "object_fit": null,
            "object_position": null,
            "order": null,
            "overflow": null,
            "overflow_x": null,
            "overflow_y": null,
            "padding": null,
            "right": null,
            "top": null,
            "visibility": null,
            "width": null
          }
        },
        "72b0e721bf004d48956768a838cf35c9": {
          "model_module": "@jupyter-widgets/controls",
          "model_name": "ProgressStyleModel",
          "model_module_version": "1.5.0",
          "state": {
            "_model_module": "@jupyter-widgets/controls",
            "_model_module_version": "1.5.0",
            "_model_name": "ProgressStyleModel",
            "_view_count": null,
            "_view_module": "@jupyter-widgets/base",
            "_view_module_version": "1.2.0",
            "_view_name": "StyleView",
            "bar_color": null,
            "description_width": ""
          }
        },
        "fc61c3ccf803400c8286bb7a728e2565": {
          "model_module": "@jupyter-widgets/base",
          "model_name": "LayoutModel",
          "model_module_version": "1.2.0",
          "state": {
            "_model_module": "@jupyter-widgets/base",
            "_model_module_version": "1.2.0",
            "_model_name": "LayoutModel",
            "_view_count": null,
            "_view_module": "@jupyter-widgets/base",
            "_view_module_version": "1.2.0",
            "_view_name": "LayoutView",
            "align_content": null,
            "align_items": null,
            "align_self": null,
            "border": null,
            "bottom": null,
            "display": null,
            "flex": null,
            "flex_flow": null,
            "grid_area": null,
            "grid_auto_columns": null,
            "grid_auto_flow": null,
            "grid_auto_rows": null,
            "grid_column": null,
            "grid_gap": null,
            "grid_row": null,
            "grid_template_areas": null,
            "grid_template_columns": null,
            "grid_template_rows": null,
            "height": null,
            "justify_content": null,
            "justify_items": null,
            "left": null,
            "margin": null,
            "max_height": null,
            "max_width": null,
            "min_height": null,
            "min_width": null,
            "object_fit": null,
            "object_position": null,
            "order": null,
            "overflow": null,
            "overflow_x": null,
            "overflow_y": null,
            "padding": null,
            "right": null,
            "top": null,
            "visibility": null,
            "width": null
          }
        },
        "52e011e39c8d4e22bc62a635abb8555f": {
          "model_module": "@jupyter-widgets/controls",
          "model_name": "DescriptionStyleModel",
          "model_module_version": "1.5.0",
          "state": {
            "_model_module": "@jupyter-widgets/controls",
            "_model_module_version": "1.5.0",
            "_model_name": "DescriptionStyleModel",
            "_view_count": null,
            "_view_module": "@jupyter-widgets/base",
            "_view_module_version": "1.2.0",
            "_view_name": "StyleView",
            "description_width": ""
          }
        },
        "b9cac5050ee74299907f828a87f59592": {
          "model_module": "@jupyter-widgets/controls",
          "model_name": "HBoxModel",
          "model_module_version": "1.5.0",
          "state": {
            "_dom_classes": [],
            "_model_module": "@jupyter-widgets/controls",
            "_model_module_version": "1.5.0",
            "_model_name": "HBoxModel",
            "_view_count": null,
            "_view_module": "@jupyter-widgets/controls",
            "_view_module_version": "1.5.0",
            "_view_name": "HBoxView",
            "box_style": "",
            "children": [
              "IPY_MODEL_3b4f613fd0cf4ec7a33fc5e69b5f4f63",
              "IPY_MODEL_8d75a1751af34f0d8dfeb71f257d4cfe",
              "IPY_MODEL_855fe84e3f054825970feb9b56702ae1"
            ],
            "layout": "IPY_MODEL_2f57620b0043433aa5ba30ec9415902f"
          }
        },
        "3b4f613fd0cf4ec7a33fc5e69b5f4f63": {
          "model_module": "@jupyter-widgets/controls",
          "model_name": "HTMLModel",
          "model_module_version": "1.5.0",
          "state": {
            "_dom_classes": [],
            "_model_module": "@jupyter-widgets/controls",
            "_model_module_version": "1.5.0",
            "_model_name": "HTMLModel",
            "_view_count": null,
            "_view_module": "@jupyter-widgets/controls",
            "_view_module_version": "1.5.0",
            "_view_name": "HTMLView",
            "description": "",
            "description_tooltip": null,
            "layout": "IPY_MODEL_9619d069dfbe45d6a3ae91120aa37544",
            "placeholder": "​",
            "style": "IPY_MODEL_c03f04df2c91439ea00005460913dded",
            "value": "special_tokens_map.json: 100%"
          }
        },
        "8d75a1751af34f0d8dfeb71f257d4cfe": {
          "model_module": "@jupyter-widgets/controls",
          "model_name": "FloatProgressModel",
          "model_module_version": "1.5.0",
          "state": {
            "_dom_classes": [],
            "_model_module": "@jupyter-widgets/controls",
            "_model_module_version": "1.5.0",
            "_model_name": "FloatProgressModel",
            "_view_count": null,
            "_view_module": "@jupyter-widgets/controls",
            "_view_module_version": "1.5.0",
            "_view_name": "ProgressView",
            "bar_style": "success",
            "description": "",
            "description_tooltip": null,
            "layout": "IPY_MODEL_2907f97324124718a5b2ced7eefdc287",
            "max": 112,
            "min": 0,
            "orientation": "horizontal",
            "style": "IPY_MODEL_2f69abc799d1434b92c54d2d8168ce84",
            "value": 112
          }
        },
        "855fe84e3f054825970feb9b56702ae1": {
          "model_module": "@jupyter-widgets/controls",
          "model_name": "HTMLModel",
          "model_module_version": "1.5.0",
          "state": {
            "_dom_classes": [],
            "_model_module": "@jupyter-widgets/controls",
            "_model_module_version": "1.5.0",
            "_model_name": "HTMLModel",
            "_view_count": null,
            "_view_module": "@jupyter-widgets/controls",
            "_view_module_version": "1.5.0",
            "_view_name": "HTMLView",
            "description": "",
            "description_tooltip": null,
            "layout": "IPY_MODEL_71bb8a9e1f62413bb58e8c7ba17865a7",
            "placeholder": "​",
            "style": "IPY_MODEL_ca896bf8d9794ef6a20613783b407bde",
            "value": " 112/112 [00:00&lt;00:00, 2.37kB/s]"
          }
        },
        "2f57620b0043433aa5ba30ec9415902f": {
          "model_module": "@jupyter-widgets/base",
          "model_name": "LayoutModel",
          "model_module_version": "1.2.0",
          "state": {
            "_model_module": "@jupyter-widgets/base",
            "_model_module_version": "1.2.0",
            "_model_name": "LayoutModel",
            "_view_count": null,
            "_view_module": "@jupyter-widgets/base",
            "_view_module_version": "1.2.0",
            "_view_name": "LayoutView",
            "align_content": null,
            "align_items": null,
            "align_self": null,
            "border": null,
            "bottom": null,
            "display": null,
            "flex": null,
            "flex_flow": null,
            "grid_area": null,
            "grid_auto_columns": null,
            "grid_auto_flow": null,
            "grid_auto_rows": null,
            "grid_column": null,
            "grid_gap": null,
            "grid_row": null,
            "grid_template_areas": null,
            "grid_template_columns": null,
            "grid_template_rows": null,
            "height": null,
            "justify_content": null,
            "justify_items": null,
            "left": null,
            "margin": null,
            "max_height": null,
            "max_width": null,
            "min_height": null,
            "min_width": null,
            "object_fit": null,
            "object_position": null,
            "order": null,
            "overflow": null,
            "overflow_x": null,
            "overflow_y": null,
            "padding": null,
            "right": null,
            "top": null,
            "visibility": null,
            "width": null
          }
        },
        "9619d069dfbe45d6a3ae91120aa37544": {
          "model_module": "@jupyter-widgets/base",
          "model_name": "LayoutModel",
          "model_module_version": "1.2.0",
          "state": {
            "_model_module": "@jupyter-widgets/base",
            "_model_module_version": "1.2.0",
            "_model_name": "LayoutModel",
            "_view_count": null,
            "_view_module": "@jupyter-widgets/base",
            "_view_module_version": "1.2.0",
            "_view_name": "LayoutView",
            "align_content": null,
            "align_items": null,
            "align_self": null,
            "border": null,
            "bottom": null,
            "display": null,
            "flex": null,
            "flex_flow": null,
            "grid_area": null,
            "grid_auto_columns": null,
            "grid_auto_flow": null,
            "grid_auto_rows": null,
            "grid_column": null,
            "grid_gap": null,
            "grid_row": null,
            "grid_template_areas": null,
            "grid_template_columns": null,
            "grid_template_rows": null,
            "height": null,
            "justify_content": null,
            "justify_items": null,
            "left": null,
            "margin": null,
            "max_height": null,
            "max_width": null,
            "min_height": null,
            "min_width": null,
            "object_fit": null,
            "object_position": null,
            "order": null,
            "overflow": null,
            "overflow_x": null,
            "overflow_y": null,
            "padding": null,
            "right": null,
            "top": null,
            "visibility": null,
            "width": null
          }
        },
        "c03f04df2c91439ea00005460913dded": {
          "model_module": "@jupyter-widgets/controls",
          "model_name": "DescriptionStyleModel",
          "model_module_version": "1.5.0",
          "state": {
            "_model_module": "@jupyter-widgets/controls",
            "_model_module_version": "1.5.0",
            "_model_name": "DescriptionStyleModel",
            "_view_count": null,
            "_view_module": "@jupyter-widgets/base",
            "_view_module_version": "1.2.0",
            "_view_name": "StyleView",
            "description_width": ""
          }
        },
        "2907f97324124718a5b2ced7eefdc287": {
          "model_module": "@jupyter-widgets/base",
          "model_name": "LayoutModel",
          "model_module_version": "1.2.0",
          "state": {
            "_model_module": "@jupyter-widgets/base",
            "_model_module_version": "1.2.0",
            "_model_name": "LayoutModel",
            "_view_count": null,
            "_view_module": "@jupyter-widgets/base",
            "_view_module_version": "1.2.0",
            "_view_name": "LayoutView",
            "align_content": null,
            "align_items": null,
            "align_self": null,
            "border": null,
            "bottom": null,
            "display": null,
            "flex": null,
            "flex_flow": null,
            "grid_area": null,
            "grid_auto_columns": null,
            "grid_auto_flow": null,
            "grid_auto_rows": null,
            "grid_column": null,
            "grid_gap": null,
            "grid_row": null,
            "grid_template_areas": null,
            "grid_template_columns": null,
            "grid_template_rows": null,
            "height": null,
            "justify_content": null,
            "justify_items": null,
            "left": null,
            "margin": null,
            "max_height": null,
            "max_width": null,
            "min_height": null,
            "min_width": null,
            "object_fit": null,
            "object_position": null,
            "order": null,
            "overflow": null,
            "overflow_x": null,
            "overflow_y": null,
            "padding": null,
            "right": null,
            "top": null,
            "visibility": null,
            "width": null
          }
        },
        "2f69abc799d1434b92c54d2d8168ce84": {
          "model_module": "@jupyter-widgets/controls",
          "model_name": "ProgressStyleModel",
          "model_module_version": "1.5.0",
          "state": {
            "_model_module": "@jupyter-widgets/controls",
            "_model_module_version": "1.5.0",
            "_model_name": "ProgressStyleModel",
            "_view_count": null,
            "_view_module": "@jupyter-widgets/base",
            "_view_module_version": "1.2.0",
            "_view_name": "StyleView",
            "bar_color": null,
            "description_width": ""
          }
        },
        "71bb8a9e1f62413bb58e8c7ba17865a7": {
          "model_module": "@jupyter-widgets/base",
          "model_name": "LayoutModel",
          "model_module_version": "1.2.0",
          "state": {
            "_model_module": "@jupyter-widgets/base",
            "_model_module_version": "1.2.0",
            "_model_name": "LayoutModel",
            "_view_count": null,
            "_view_module": "@jupyter-widgets/base",
            "_view_module_version": "1.2.0",
            "_view_name": "LayoutView",
            "align_content": null,
            "align_items": null,
            "align_self": null,
            "border": null,
            "bottom": null,
            "display": null,
            "flex": null,
            "flex_flow": null,
            "grid_area": null,
            "grid_auto_columns": null,
            "grid_auto_flow": null,
            "grid_auto_rows": null,
            "grid_column": null,
            "grid_gap": null,
            "grid_row": null,
            "grid_template_areas": null,
            "grid_template_columns": null,
            "grid_template_rows": null,
            "height": null,
            "justify_content": null,
            "justify_items": null,
            "left": null,
            "margin": null,
            "max_height": null,
            "max_width": null,
            "min_height": null,
            "min_width": null,
            "object_fit": null,
            "object_position": null,
            "order": null,
            "overflow": null,
            "overflow_x": null,
            "overflow_y": null,
            "padding": null,
            "right": null,
            "top": null,
            "visibility": null,
            "width": null
          }
        },
        "ca896bf8d9794ef6a20613783b407bde": {
          "model_module": "@jupyter-widgets/controls",
          "model_name": "DescriptionStyleModel",
          "model_module_version": "1.5.0",
          "state": {
            "_model_module": "@jupyter-widgets/controls",
            "_model_module_version": "1.5.0",
            "_model_name": "DescriptionStyleModel",
            "_view_count": null,
            "_view_module": "@jupyter-widgets/base",
            "_view_module_version": "1.2.0",
            "_view_name": "StyleView",
            "description_width": ""
          }
        }
      }
    }
  },
  "nbformat": 4,
  "nbformat_minor": 0
}