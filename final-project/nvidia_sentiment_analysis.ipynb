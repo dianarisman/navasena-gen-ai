{
  "cells": [
    {
      "cell_type": "code",
      "execution_count": 2,
      "metadata": {
        "colab": {
          "base_uri": "https://localhost:8080/"
        },
        "id": "nVeVTsHmJscF",
        "outputId": "0715dabe-c065-40e9-c721-86d81fdfdf65"
      },
      "outputs": [
        {
          "output_type": "stream",
          "name": "stdout",
          "text": [
            "Mounted at /content/drive\n"
          ]
        }
      ],
      "source": [
        "from google.colab import drive\n",
        "drive.mount('/content/drive')"
      ]
    },
    {
      "cell_type": "markdown",
      "metadata": {
        "id": "ea4zuR_GXmx7"
      },
      "source": [
        "# Preprocess the Amazon product reviews data.\n",
        "\n",
        "Download the Dataset from kaggle"
      ]
    },
    {
      "cell_type": "code",
      "execution_count": null,
      "metadata": {
        "colab": {
          "base_uri": "https://localhost:8080/"
        },
        "id": "GEArBPZRmzmD",
        "outputId": "e1e68916-e793-4a71-ee4c-ff08bf444bde"
      },
      "outputs": [
        {
          "name": "stdout",
          "output_type": "stream",
          "text": [
            "Dataset URL: https://www.kaggle.com/datasets/bittlingmayer/amazonreviews\n",
            "License(s): unknown\n",
            "Downloading amazonreviews.zip to /content\n",
            " 98% 482M/493M [00:04<00:00, 105MB/s]\n",
            "100% 493M/493M [00:04<00:00, 118MB/s]\n"
          ]
        }
      ],
      "source": [
        "!kaggle datasets download -d bittlingmayer/amazonreviews\n"
      ]
    },
    {
      "cell_type": "code",
      "execution_count": null,
      "metadata": {
        "colab": {
          "base_uri": "https://localhost:8080/"
        },
        "id": "VDWxvEMloPzU",
        "outputId": "1e97161c-4338-43af-e66d-4579a6426231"
      },
      "outputs": [
        {
          "name": "stdout",
          "output_type": "stream",
          "text": [
            "Archive:  /content/drive/MyDrive/amazonreviews-dataset/amazonreviews.zip\n",
            "  inflating: /content/drive/MyDrive/amazonreviews-dataset/test.ft.txt.bz2  \n",
            "  inflating: /content/drive/MyDrive/amazonreviews-dataset/train.ft.txt.bz2  \n"
          ]
        }
      ],
      "source": [
        "# Unzip the dataset\n",
        "!unzip /content/drive/MyDrive/amazonreviews-dataset/amazonreviews.zip -d /content/drive/MyDrive/amazonreviews-dataset"
      ]
    },
    {
      "cell_type": "markdown",
      "metadata": {
        "id": "VDkZ7IkD9gpU"
      },
      "source": [
        "# Implement and fine-tune an LLM using NVIDIA NeMo for sentiment classification.\n",
        "\n",
        "Kami tidak menggunakan NVIDIA’s NLP models.\n",
        "Model nvidia/Aegis-AI-Content-Safety-LlamaGuard-Defensive-1.0 difokuskan untuk content safety atau moderasi konten, bukan untuk sentiment analysis atau analisis review produk. Model ini dirancang oleh NVIDIA untuk mendeteksi dan memoderasi konten yang tidak aman atau sensitif, seperti bahasa yang tidak pantas, konten berbahaya, atau bahasa yang melanggar aturan komunitas\n",
        "\n",
        "Untuk analisis review produk, terutama untuk sentimen atau pemahaman konteks pengguna, model yang lebih cocok adalah model yang dilatih untuk sentiment analysis atau analisis teks yang fokus pada ulasan pelanggan. Beberapa pilihan alternatif yang bisa lebih sesuai adalah:\n",
        "\n",
        "Sentiment Analysis Model dari Hugging Face:\n",
        "\n",
        "\n",
        "* nlptown/bert-base-multilingual-uncased-sentiment: BERT model yang mendukung beberapa bahasa dan cocok untuk analisis sentimen, baik positif maupun negatif.\n",
        "* distilbert-base-uncased-finetuned-sst-2-english: Versi lebih ringan dari BERT yang dirancang untuk mengklasifikasikan teks dalam dua kelas, positif dan negatif, dan sering digunakan untuk review produk."
      ]
    },
    {
      "cell_type": "code",
      "execution_count": null,
      "metadata": {
        "id": "oMTOBOe99eBI"
      },
      "outputs": [],
      "source": [
        "!pip install transformers pandas\n"
      ]
    },
    {
      "cell_type": "markdown",
      "metadata": {
        "id": "6waCHitRnUAe"
      },
      "source": [
        "Load and Decompress the Dataset"
      ]
    },
    {
      "cell_type": "code",
      "execution_count": 3,
      "metadata": {
        "id": "Hkig5-UOIfhc",
        "colab": {
          "base_uri": "https://localhost:8080/"
        },
        "outputId": "073a0ae0-5165-477e-ce31-75079ef05a31"
      },
      "outputs": [
        {
          "output_type": "stream",
          "name": "stdout",
          "text": [
            "DataFrame shape: (100000, 2)\n",
            "DataFrame head:\n",
            "    sentiment                                         reviewText\n",
            "0  __label__2  Stuning even for the non-gamer: This sound tra...\n",
            "1  __label__2  The best soundtrack ever to anything.: I'm rea...\n",
            "2  __label__2  Amazing!: This soundtrack is my favorite music...\n",
            "3  __label__2  Excellent Soundtrack: I truly like this soundt...\n",
            "4  __label__2  Remember, Pull Your Jaw Off The Floor After He...\n"
          ]
        }
      ],
      "source": [
        "import pandas as pd\n",
        "import bz2\n",
        "from transformers import pipeline\n",
        "from sklearn.metrics import classification_report\n",
        "\n",
        "gdrive_dir = '/content/drive/MyDrive/amazonreviews-dataset/'\n",
        "train_dir = gdrive_dir + 'train.ft.txt.bz2'\n",
        "test_dir = gdrive_dir + 'test.ft.txt.bz2'\n",
        "\n",
        "# Define a generator function to read data line by line\n",
        "def read_reviews(filepath):\n",
        "    with bz2.open(filepath, 'rt') as f:\n",
        "        for line in f:\n",
        "            parts = line.strip().split(' ', 1)\n",
        "            # Only yield valid lines\n",
        "            if len(parts) == 2:\n",
        "                yield parts\n",
        "\n",
        "\n",
        "# with bz2.open(train_dir, 'rt') as f:\n",
        "#     data = f.readlines()\n",
        "\n",
        "# with bz2.BZ2File(train_dir, 'rb') as f:\n",
        "#     data = f.read().decode('utf-8').splitlines()\n",
        "\n",
        "\n",
        "\n",
        "# Check the total lines and the first few entries\n",
        "# print(\"Total lines in dataset:\", len(data))\n",
        "# for line in data[:5]:\n",
        "#     print(line.strip())\n",
        "\n",
        "# Prepare valid reviews\n",
        "# reviews = []\n",
        "# for line in data:\n",
        "#     # Split the line on the first space to separate the label from the review\n",
        "#     parts = line.strip().split(' ', 1)  # Split only on the first space\n",
        "#     if len(parts) == 2:  # Check if the line has the expected number of columns\n",
        "#         reviews.append(parts)\n",
        "# Using the generator to create DataFrame in chunks to optimize memory usage\n",
        "reviews = []\n",
        "for i, review in enumerate(read_reviews(train_dir)):\n",
        "    reviews.append(review)\n",
        "    # Process only a subset for testing, e.g., first 100,000 lines (adjust as needed)\n",
        "    if i >= 99999:\n",
        "        break\n",
        "\n",
        "# Create DataFrame from valid reviews\n",
        "df = pd.DataFrame(reviews, columns=['sentiment', 'reviewText'])\n",
        "\n",
        "# Check the resulting DataFrame\n",
        "print(\"DataFrame shape:\", df.shape)\n",
        "print(\"DataFrame head:\")\n",
        "print(df.head())"
      ]
    },
    {
      "cell_type": "markdown",
      "metadata": {
        "id": "I7SR5desLqH-"
      },
      "source": [
        "Preprocess the Data Clean and label the sentiment based on the dataset. The first column usually indicates the sentiment label."
      ]
    },
    {
      "cell_type": "code",
      "execution_count": 4,
      "metadata": {
        "colab": {
          "base_uri": "https://localhost:8080/"
        },
        "id": "fNtHEkQfL0qg",
        "outputId": "de33abcf-855b-42d9-a7b9-450b6b8d6ebc"
      },
      "outputs": [
        {
          "output_type": "stream",
          "name": "stdout",
          "text": [
            "0        positive\n",
            "1        positive\n",
            "2        positive\n",
            "3        positive\n",
            "4        positive\n",
            "           ...   \n",
            "99995    positive\n",
            "99996    negative\n",
            "99997    negative\n",
            "99998    negative\n",
            "99999    negative\n",
            "Name: mapped_sentiment, Length: 100000, dtype: object\n"
          ]
        }
      ],
      "source": [
        "# Check the unique sentiment labels\n",
        "#print(df['sentiment'].unique())\n",
        "\n",
        "# Map sentiments to a simpler format\n",
        "sentiment_mapping = {\n",
        "    '__label__1': 'negative',\n",
        "    '__label__2': 'positive'\n",
        "}\n",
        "\n",
        "df['mapped_sentiment'] = df['sentiment'].map(sentiment_mapping)\n",
        "print(df['mapped_sentiment'])\n"
      ]
    },
    {
      "cell_type": "markdown",
      "metadata": {
        "id": "1MHiAHCwMGk7"
      },
      "source": [
        "Load the Pre-trained Sentiment Analysis Model Use the nlptown/bert-base-multilingual-uncased-sentiment model for sentiment analysis."
      ]
    },
    {
      "cell_type": "code",
      "execution_count": 5,
      "metadata": {
        "colab": {
          "base_uri": "https://localhost:8080/",
          "height": 343,
          "referenced_widgets": [
            "e02ef2a438a440a7b29e197ac9690bfe",
            "952f2b272a0242c79c5570e6fb32a867",
            "0e7a7179738b45a0ba23e61f35061e7f",
            "500f8711de2e41f59bfff53b6c100fde",
            "4d109637193d4b90a873233f25e76e84",
            "89142993cf274ef5a0029babb88b1bf7",
            "25195f665dde4e14a9cfd607de66c833",
            "d6f78dd184294345a82c9353bf2ba81b",
            "ceca54cb89964387be34804063549ba9",
            "609e41a76d29452fb4e220dab02647a0",
            "385d4bcd91b34745990125ec6b99d9fc",
            "35ee1415ff9f4985a4e0e9501f9302c9",
            "0b233ec9d7844d70bcee491f4b5771e2",
            "1990a1caeaae4f5e98022a5121b778f9",
            "abf5f28b334a408ca1d27324afad1dc5",
            "0b84c48203e04ea8b3c642cebada2b91",
            "c617f85929b445daa49c5e9ba5fb8abc",
            "b7d2b229399f4898987480704916eed0",
            "decbeaed40a4414b8bc0aa02b5c7a72b",
            "482585d9069d4b70a56f6b40972ba123",
            "111de1ab3af142e2b84473f5a120e319",
            "05e71c37b63f4d0f9091bcb99a18b884",
            "bdc3dc66d6f9420d917274231963ecd5",
            "79fddd99246f433292ee4d466249675b",
            "2ceaaf348fea4cfa8053e747385bdadb",
            "7e83c104a55d4bbfb5b9af4ee7fecb89",
            "d0e2565841924d59983cc0149a9f8c0a",
            "2a3b24de7b2d4962980f22f9da1a7a7d",
            "a6a5c846c7fd42e2a62d6fe854dda144",
            "fefa2fdfa73c42a986fbcfefc245cc4a",
            "f52591a93c93443280c6fe26517c9a71",
            "65b25d38372d48acb7d85352d109d8bc",
            "5d58a37027ec49958bab766828456eda",
            "99ad9b06e75b44619444871bae2a4ad0",
            "9c6cc5cd722841d5aa5f5c434d838211",
            "f41dc85b275043dcaf9d077226384d22",
            "50ce1f7f28bf49949a10889da3cb4f43",
            "1fb127112e99445f9258728949eecacd",
            "6901275ba2aa466e97b5b6241d86df8c",
            "3eb3e22235ac4ec295419964ce57f188",
            "0b3ecc56eb044c3b9d0229b3613f5fdf",
            "eb1a697020644d79baa1ca5f38284ae1",
            "baedb15c81244a81b9d8d4c4554ba8d8",
            "a1bd86b458f94c549b649f9d7ed255e2",
            "ebeaa0c94df64ec6b339688b4386fed3",
            "2a76b45bb6f344aaa598a82c064169c7",
            "d9f4ce59d00f4339990429b3d6ad7801",
            "908cb5a4f8054745b31bdcba5e24fb15",
            "52a9dc9b2e254c6c8fdccc75246aa915",
            "c9e2fc3467e24579b9f4dbf5d1b2d6f7",
            "4a614cecf52c43138ea199e57278d359",
            "b0cea13a1a5c49f7a537fd1ec04cdee6",
            "cabbf38f6c9e464db55e015d86881f0a",
            "8195357ee2da45f98e589d9e71d0160f",
            "9f4bc91247b64cf7846ea7342492f351"
          ]
        },
        "id": "s6W-JuwUMNcU",
        "outputId": "bfe03f99-5e43-4c57-983c-fa055635bd2e"
      },
      "outputs": [
        {
          "output_type": "stream",
          "name": "stderr",
          "text": [
            "/usr/local/lib/python3.10/dist-packages/huggingface_hub/utils/_token.py:89: UserWarning: \n",
            "The secret `HF_TOKEN` does not exist in your Colab secrets.\n",
            "To authenticate with the Hugging Face Hub, create a token in your settings tab (https://huggingface.co/settings/tokens), set it as secret in your Google Colab and restart your session.\n",
            "You will be able to reuse this secret in all of your notebooks.\n",
            "Please note that authentication is recommended but still optional to access public models or datasets.\n",
            "  warnings.warn(\n"
          ]
        },
        {
          "output_type": "display_data",
          "data": {
            "text/plain": [
              "config.json:   0%|          | 0.00/953 [00:00<?, ?B/s]"
            ],
            "application/vnd.jupyter.widget-view+json": {
              "version_major": 2,
              "version_minor": 0,
              "model_id": "e02ef2a438a440a7b29e197ac9690bfe"
            }
          },
          "metadata": {}
        },
        {
          "output_type": "display_data",
          "data": {
            "text/plain": [
              "pytorch_model.bin:   0%|          | 0.00/669M [00:00<?, ?B/s]"
            ],
            "application/vnd.jupyter.widget-view+json": {
              "version_major": 2,
              "version_minor": 0,
              "model_id": "35ee1415ff9f4985a4e0e9501f9302c9"
            }
          },
          "metadata": {}
        },
        {
          "output_type": "display_data",
          "data": {
            "text/plain": [
              "tokenizer_config.json:   0%|          | 0.00/39.0 [00:00<?, ?B/s]"
            ],
            "application/vnd.jupyter.widget-view+json": {
              "version_major": 2,
              "version_minor": 0,
              "model_id": "bdc3dc66d6f9420d917274231963ecd5"
            }
          },
          "metadata": {}
        },
        {
          "output_type": "display_data",
          "data": {
            "text/plain": [
              "vocab.txt:   0%|          | 0.00/872k [00:00<?, ?B/s]"
            ],
            "application/vnd.jupyter.widget-view+json": {
              "version_major": 2,
              "version_minor": 0,
              "model_id": "99ad9b06e75b44619444871bae2a4ad0"
            }
          },
          "metadata": {}
        },
        {
          "output_type": "display_data",
          "data": {
            "text/plain": [
              "special_tokens_map.json:   0%|          | 0.00/112 [00:00<?, ?B/s]"
            ],
            "application/vnd.jupyter.widget-view+json": {
              "version_major": 2,
              "version_minor": 0,
              "model_id": "ebeaa0c94df64ec6b339688b4386fed3"
            }
          },
          "metadata": {}
        },
        {
          "output_type": "stream",
          "name": "stderr",
          "text": [
            "/usr/local/lib/python3.10/dist-packages/transformers/tokenization_utils_base.py:1601: FutureWarning: `clean_up_tokenization_spaces` was not set. It will be set to `True` by default. This behavior will be depracted in transformers v4.45, and will be then set to `False` by default. For more details check this issue: https://github.com/huggingface/transformers/issues/31884\n",
            "  warnings.warn(\n"
          ]
        }
      ],
      "source": [
        "from transformers import pipeline\n",
        "\n",
        "# Load the sentiment analysis pipeline\n",
        "sentiment_pipeline = pipeline(\"sentiment-analysis\", model=\"nlptown/bert-base-multilingual-uncased-sentiment\")\n"
      ]
    },
    {
      "cell_type": "markdown",
      "source": [
        "# Utilize prompt engineering to optimize sentiment analysis accuracy.\n",
        "\n",
        "Sebelum melakukan analisis sentimen, sangat penting untuk membersihkan teks ulasan. Ini termasuk menghapus karakter khusus, menghapus kata-kata yang tidak penting (stopwords), dan melakukan stemming atau lemmatization. Dengan pembersihan yang baik, model dapat lebih akurat dalam menentukan sentimen."
      ],
      "metadata": {
        "id": "KSP_-JRwrkp_"
      }
    },
    {
      "cell_type": "code",
      "source": [
        "import re\n",
        "import nltk\n",
        "nltk.download('stopwords')\n",
        "from nltk.corpus import stopwords\n",
        "\n",
        "def clean_text(text):\n",
        "    text = re.sub(r'[^a-zA-Z\\s]', '', text)  # Menghapus karakter non-alfabet\n",
        "    text = text.lower()  # Mengubah ke huruf kecil\n",
        "    text = ' '.join(word for word in text.split() if word not in stopwords.words('english'))  # Menghapus stopwords\n",
        "    return text\n",
        "\n",
        "df['cleaned_review'] = df['reviewText'].apply(clean_text)\n"
      ],
      "metadata": {
        "colab": {
          "base_uri": "https://localhost:8080/"
        },
        "id": "7QfJqMl2rpnV",
        "outputId": "725c5c2b-79d3-4c31-f32e-308df47e1201"
      },
      "execution_count": null,
      "outputs": [
        {
          "output_type": "stream",
          "name": "stderr",
          "text": [
            "[nltk_data] Downloading package stopwords to /root/nltk_data...\n",
            "[nltk_data]   Unzipping corpora/stopwords.zip.\n"
          ]
        }
      ]
    },
    {
      "cell_type": "markdown",
      "metadata": {
        "id": "Wx37LpO3Mk05"
      },
      "source": [
        "Analyze Sentiment Use the model to classify the sentiment of the reviews.\n"
      ]
    },
    {
      "cell_type": "code",
      "execution_count": null,
      "metadata": {
        "id": "T14AdA13GKjR"
      },
      "outputs": [],
      "source": [
        "# Prepare the reviews for sentiment analysis\n",
        "review_texts = df['cleaned_review'].tolist()\n",
        "print(review_texts)\n",
        "\n",
        "# Analyze sentiment\n",
        "predictions = sentiment_pipeline(review_texts)\n",
        "\n",
        "# Extract sentiment labels and scores\n",
        "df['predicted_sentiment'] = [pred['label'] for pred in predictions]\n",
        "df['predicted_score'] = [pred['score'] for pred in predictions]\n",
        "\n",
        "# Define your labels explicitly if necessary\n",
        "target_names = ['negative', 'positive']  # Modify based on your classes\n",
        "\n"
      ]
    },
    {
      "cell_type": "markdown",
      "source": [
        "# Evaluate the model’s performance using metrics like accuracy, precision, recall, and F1-score.\n",
        "\n",
        "Menggunakan fungsi classification_report dari sklearn.metrics. Ini adalah fungsi yang memungkinkan Anda untuk menghitung dan menampilkan metrik evaluasi untuk model klasifikasi.\n",
        "\n",
        "Penjelasan:\n",
        "classification_report: Fungsi ini mengambil dua argumen:\n",
        "\n",
        "reviews['sentiment']: Ini adalah label sentimen aktual yang telah ditentukan sebelumnya berdasarkan penilaian keseluruhan.\n",
        "reviews['mapped_sentiment']: Ini adalah label sentimen yang diprediksi oleh model berdasarkan ulasan yang dianalisis.\n",
        "Metrik yang Dihasilkan: Fungsi ini menghasilkan laporan yang mencakup:\n",
        "\n",
        "Akurasi: Persentase prediksi yang benar dari total prediksi.\n",
        "Presisi: Rasio prediksi positif yang benar terhadap total prediksi positif.\n",
        "Perolehan (Recall): Rasio prediksi positif yang benar terhadap total aktual positif.\n",
        "Skor F1: Rata-rata harmonis dari presisi dan perolehan, memberikan gambaran umum tentang keseimbangan antara keduanya.\n"
      ],
      "metadata": {
        "id": "y9eDFb0huwby"
      }
    },
    {
      "cell_type": "code",
      "source": [
        "# Evaluate the model\n",
        "print(\"Mapped Sentiment:\", df['mapped_sentiment'].unique())\n",
        "print(\"Predicted Sentiment:\", df['predicted_sentiment'].unique())\n",
        "#classification_report: This function provides precision, recall, F1-score, and support for each class.\n",
        "print(classification_report(df['mapped_sentiment'], df['predicted_sentiment'], target_names=target_names))\n",
        "\n",
        "# Display the first few results\n",
        "print(df[['reviewText', 'mapped_sentiment', 'predicted_sentiment', 'predicted_score']].head())\n",
        "\n",
        "# Calculate and print overall accuracy\n",
        "#accuracy_score: This function calculates the overall accuracy of the model.\n",
        "accuracy = accuracy_score(df['mapped_sentiment'], df['predicted_sentiment'])\n",
        "print(\"Accuracy:\", accuracy)"
      ],
      "metadata": {
        "id": "RT894cwDukxa"
      },
      "execution_count": null,
      "outputs": []
    },
    {
      "cell_type": "code",
      "execution_count": null,
      "metadata": {
        "id": "DE_iCAZFOtGK"
      },
      "outputs": [],
      "source": [
        "# Save the results to a CSV file\n",
        "df.to_csv('amazon_reviews_with_sentiment.csv', index=False)\n"
      ]
    },
    {
      "cell_type": "markdown",
      "source": [
        "# Visualize sentiment distribution and key insights.\n",
        "\n",
        "Distribusi Sentimen Aktual dan Prediksi\n",
        "Visualisasi distribusi sentimen dapat memberikan gambaran tentang bagaimana data dan prediksi model tersebar. Diagram batang (bar plot) adalah salah satu cara efektif untuk melihat ini."
      ],
      "metadata": {
        "id": "tFl42jnMw2lI"
      }
    },
    {
      "cell_type": "code",
      "source": [
        "import matplotlib.pyplot as plt\n",
        "import seaborn as sns\n",
        "\n",
        "# Plot distribusi sentimen aktual\n",
        "plt.figure(figsize=(12, 6))\n",
        "sns.countplot(x='sentiment', data=reviews, palette=\"viridis\")\n",
        "plt.title(\"Distribusi Sentimen Aktual\")\n",
        "plt.xlabel(\"Sentimen\")\n",
        "plt.ylabel(\"Jumlah\")\n",
        "plt.show()\n",
        "\n",
        "# Plot distribusi sentimen yang diprediksi\n",
        "plt.figure(figsize=(12, 6))\n",
        "sns.countplot(x='mapped_sentiment', data=reviews, palette=\"viridis\")\n",
        "plt.title(\"Distribusi Sentimen yang Diprediksi\")\n",
        "plt.xlabel(\"Sentimen yang Diprediksi\")\n",
        "plt.ylabel(\"Jumlah\")\n",
        "plt.show()\n"
      ],
      "metadata": {
        "id": "hvJaL8rOw318"
      },
      "execution_count": null,
      "outputs": []
    },
    {
      "cell_type": "markdown",
      "source": [],
      "metadata": {
        "id": "BOG9ACoe1E0A"
      }
    },
    {
      "cell_type": "markdown",
      "source": [
        "# Assess and mitigate any biases in the sentiment analysis model\n",
        "\n"
      ],
      "metadata": {
        "id": "G-uG-tihxAzW"
      }
    },
    {
      "cell_type": "markdown",
      "source": [
        "1. Penilaian Bias dalam Model\n",
        "\n",
        "\n",
        "*   Analisis Distribusi Sentimen: Lakukan analisis pada data latih dan data prediksi untuk melihat apakah model cenderung memberikan prediksi tertentu lebih sering, misalnya lebih sering memberikan label \"positif\" dibanding \"netral\" atau \"negatif\".\n",
        "\n",
        "*   Evaluasi Performa Berdasarkan Subkelompok Bahasa: nlptown/bert-base-multilingual-uncased-sentiment adalah model multibahasa, tetapi mungkin lebih efektif pada bahasa tertentu. Anda bisa menguji prediksi pada data berbahasa berbeda untuk melihat apakah terdapat bias dalam performa.\n",
        "\n"
      ],
      "metadata": {
        "id": "MUh-7uMV0h-7"
      }
    },
    {
      "cell_type": "markdown",
      "source": [
        "2. Menggunakan Metrik Keadilan dan Analisis Mendalam\n",
        "\n",
        "Menggunakan Confusion Matrix untuk mengevaluasi keadilan. Ini akan membantu Anda melihat bagaimana model bekerja di seluruh kelas sentimen:\n",
        "\n"
      ],
      "metadata": {
        "id": "BmLFdyKT1Flt"
      }
    },
    {
      "cell_type": "code",
      "source": [
        "from sklearn.metrics import confusion_matrix, classification_report\n",
        "\n",
        "# Evaluasi performa berdasarkan label prediksi\n",
        "cm = confusion_matrix(reviews['sentiment'], reviews['predicted_sentiment'])\n",
        "print(cm)\n",
        "print(classification_report(reviews['sentiment'], reviews['predicted_sentiment']))\n"
      ],
      "metadata": {
        "id": "rP8S9fXe1Leb"
      },
      "execution_count": null,
      "outputs": []
    },
    {
      "cell_type": "markdown",
      "source": [
        "# Tools\n",
        "\n",
        "Kami menggunakan General Transformers. Karena model yang kami pakai model berbasis transformers biasa/bukan class Nemo"
      ],
      "metadata": {
        "id": "mn-MmUxT2zBT"
      }
    }
  ],
  "metadata": {
    "accelerator": "GPU",
    "colab": {
      "gpuType": "T4",
      "provenance": []
    },
    "kernelspec": {
      "display_name": "Python 3",
      "name": "python3"
    },
    "language_info": {
      "name": "python"
    },
    "widgets": {
      "application/vnd.jupyter.widget-state+json": {
        "e02ef2a438a440a7b29e197ac9690bfe": {
          "model_module": "@jupyter-widgets/controls",
          "model_name": "HBoxModel",
          "model_module_version": "1.5.0",
          "state": {
            "_dom_classes": [],
            "_model_module": "@jupyter-widgets/controls",
            "_model_module_version": "1.5.0",
            "_model_name": "HBoxModel",
            "_view_count": null,
            "_view_module": "@jupyter-widgets/controls",
            "_view_module_version": "1.5.0",
            "_view_name": "HBoxView",
            "box_style": "",
            "children": [
              "IPY_MODEL_952f2b272a0242c79c5570e6fb32a867",
              "IPY_MODEL_0e7a7179738b45a0ba23e61f35061e7f",
              "IPY_MODEL_500f8711de2e41f59bfff53b6c100fde"
            ],
            "layout": "IPY_MODEL_4d109637193d4b90a873233f25e76e84"
          }
        },
        "952f2b272a0242c79c5570e6fb32a867": {
          "model_module": "@jupyter-widgets/controls",
          "model_name": "HTMLModel",
          "model_module_version": "1.5.0",
          "state": {
            "_dom_classes": [],
            "_model_module": "@jupyter-widgets/controls",
            "_model_module_version": "1.5.0",
            "_model_name": "HTMLModel",
            "_view_count": null,
            "_view_module": "@jupyter-widgets/controls",
            "_view_module_version": "1.5.0",
            "_view_name": "HTMLView",
            "description": "",
            "description_tooltip": null,
            "layout": "IPY_MODEL_89142993cf274ef5a0029babb88b1bf7",
            "placeholder": "​",
            "style": "IPY_MODEL_25195f665dde4e14a9cfd607de66c833",
            "value": "config.json: 100%"
          }
        },
        "0e7a7179738b45a0ba23e61f35061e7f": {
          "model_module": "@jupyter-widgets/controls",
          "model_name": "FloatProgressModel",
          "model_module_version": "1.5.0",
          "state": {
            "_dom_classes": [],
            "_model_module": "@jupyter-widgets/controls",
            "_model_module_version": "1.5.0",
            "_model_name": "FloatProgressModel",
            "_view_count": null,
            "_view_module": "@jupyter-widgets/controls",
            "_view_module_version": "1.5.0",
            "_view_name": "ProgressView",
            "bar_style": "success",
            "description": "",
            "description_tooltip": null,
            "layout": "IPY_MODEL_d6f78dd184294345a82c9353bf2ba81b",
            "max": 953,
            "min": 0,
            "orientation": "horizontal",
            "style": "IPY_MODEL_ceca54cb89964387be34804063549ba9",
            "value": 953
          }
        },
        "500f8711de2e41f59bfff53b6c100fde": {
          "model_module": "@jupyter-widgets/controls",
          "model_name": "HTMLModel",
          "model_module_version": "1.5.0",
          "state": {
            "_dom_classes": [],
            "_model_module": "@jupyter-widgets/controls",
            "_model_module_version": "1.5.0",
            "_model_name": "HTMLModel",
            "_view_count": null,
            "_view_module": "@jupyter-widgets/controls",
            "_view_module_version": "1.5.0",
            "_view_name": "HTMLView",
            "description": "",
            "description_tooltip": null,
            "layout": "IPY_MODEL_609e41a76d29452fb4e220dab02647a0",
            "placeholder": "​",
            "style": "IPY_MODEL_385d4bcd91b34745990125ec6b99d9fc",
            "value": " 953/953 [00:00&lt;00:00, 17.2kB/s]"
          }
        },
        "4d109637193d4b90a873233f25e76e84": {
          "model_module": "@jupyter-widgets/base",
          "model_name": "LayoutModel",
          "model_module_version": "1.2.0",
          "state": {
            "_model_module": "@jupyter-widgets/base",
            "_model_module_version": "1.2.0",
            "_model_name": "LayoutModel",
            "_view_count": null,
            "_view_module": "@jupyter-widgets/base",
            "_view_module_version": "1.2.0",
            "_view_name": "LayoutView",
            "align_content": null,
            "align_items": null,
            "align_self": null,
            "border": null,
            "bottom": null,
            "display": null,
            "flex": null,
            "flex_flow": null,
            "grid_area": null,
            "grid_auto_columns": null,
            "grid_auto_flow": null,
            "grid_auto_rows": null,
            "grid_column": null,
            "grid_gap": null,
            "grid_row": null,
            "grid_template_areas": null,
            "grid_template_columns": null,
            "grid_template_rows": null,
            "height": null,
            "justify_content": null,
            "justify_items": null,
            "left": null,
            "margin": null,
            "max_height": null,
            "max_width": null,
            "min_height": null,
            "min_width": null,
            "object_fit": null,
            "object_position": null,
            "order": null,
            "overflow": null,
            "overflow_x": null,
            "overflow_y": null,
            "padding": null,
            "right": null,
            "top": null,
            "visibility": null,
            "width": null
          }
        },
        "89142993cf274ef5a0029babb88b1bf7": {
          "model_module": "@jupyter-widgets/base",
          "model_name": "LayoutModel",
          "model_module_version": "1.2.0",
          "state": {
            "_model_module": "@jupyter-widgets/base",
            "_model_module_version": "1.2.0",
            "_model_name": "LayoutModel",
            "_view_count": null,
            "_view_module": "@jupyter-widgets/base",
            "_view_module_version": "1.2.0",
            "_view_name": "LayoutView",
            "align_content": null,
            "align_items": null,
            "align_self": null,
            "border": null,
            "bottom": null,
            "display": null,
            "flex": null,
            "flex_flow": null,
            "grid_area": null,
            "grid_auto_columns": null,
            "grid_auto_flow": null,
            "grid_auto_rows": null,
            "grid_column": null,
            "grid_gap": null,
            "grid_row": null,
            "grid_template_areas": null,
            "grid_template_columns": null,
            "grid_template_rows": null,
            "height": null,
            "justify_content": null,
            "justify_items": null,
            "left": null,
            "margin": null,
            "max_height": null,
            "max_width": null,
            "min_height": null,
            "min_width": null,
            "object_fit": null,
            "object_position": null,
            "order": null,
            "overflow": null,
            "overflow_x": null,
            "overflow_y": null,
            "padding": null,
            "right": null,
            "top": null,
            "visibility": null,
            "width": null
          }
        },
        "25195f665dde4e14a9cfd607de66c833": {
          "model_module": "@jupyter-widgets/controls",
          "model_name": "DescriptionStyleModel",
          "model_module_version": "1.5.0",
          "state": {
            "_model_module": "@jupyter-widgets/controls",
            "_model_module_version": "1.5.0",
            "_model_name": "DescriptionStyleModel",
            "_view_count": null,
            "_view_module": "@jupyter-widgets/base",
            "_view_module_version": "1.2.0",
            "_view_name": "StyleView",
            "description_width": ""
          }
        },
        "d6f78dd184294345a82c9353bf2ba81b": {
          "model_module": "@jupyter-widgets/base",
          "model_name": "LayoutModel",
          "model_module_version": "1.2.0",
          "state": {
            "_model_module": "@jupyter-widgets/base",
            "_model_module_version": "1.2.0",
            "_model_name": "LayoutModel",
            "_view_count": null,
            "_view_module": "@jupyter-widgets/base",
            "_view_module_version": "1.2.0",
            "_view_name": "LayoutView",
            "align_content": null,
            "align_items": null,
            "align_self": null,
            "border": null,
            "bottom": null,
            "display": null,
            "flex": null,
            "flex_flow": null,
            "grid_area": null,
            "grid_auto_columns": null,
            "grid_auto_flow": null,
            "grid_auto_rows": null,
            "grid_column": null,
            "grid_gap": null,
            "grid_row": null,
            "grid_template_areas": null,
            "grid_template_columns": null,
            "grid_template_rows": null,
            "height": null,
            "justify_content": null,
            "justify_items": null,
            "left": null,
            "margin": null,
            "max_height": null,
            "max_width": null,
            "min_height": null,
            "min_width": null,
            "object_fit": null,
            "object_position": null,
            "order": null,
            "overflow": null,
            "overflow_x": null,
            "overflow_y": null,
            "padding": null,
            "right": null,
            "top": null,
            "visibility": null,
            "width": null
          }
        },
        "ceca54cb89964387be34804063549ba9": {
          "model_module": "@jupyter-widgets/controls",
          "model_name": "ProgressStyleModel",
          "model_module_version": "1.5.0",
          "state": {
            "_model_module": "@jupyter-widgets/controls",
            "_model_module_version": "1.5.0",
            "_model_name": "ProgressStyleModel",
            "_view_count": null,
            "_view_module": "@jupyter-widgets/base",
            "_view_module_version": "1.2.0",
            "_view_name": "StyleView",
            "bar_color": null,
            "description_width": ""
          }
        },
        "609e41a76d29452fb4e220dab02647a0": {
          "model_module": "@jupyter-widgets/base",
          "model_name": "LayoutModel",
          "model_module_version": "1.2.0",
          "state": {
            "_model_module": "@jupyter-widgets/base",
            "_model_module_version": "1.2.0",
            "_model_name": "LayoutModel",
            "_view_count": null,
            "_view_module": "@jupyter-widgets/base",
            "_view_module_version": "1.2.0",
            "_view_name": "LayoutView",
            "align_content": null,
            "align_items": null,
            "align_self": null,
            "border": null,
            "bottom": null,
            "display": null,
            "flex": null,
            "flex_flow": null,
            "grid_area": null,
            "grid_auto_columns": null,
            "grid_auto_flow": null,
            "grid_auto_rows": null,
            "grid_column": null,
            "grid_gap": null,
            "grid_row": null,
            "grid_template_areas": null,
            "grid_template_columns": null,
            "grid_template_rows": null,
            "height": null,
            "justify_content": null,
            "justify_items": null,
            "left": null,
            "margin": null,
            "max_height": null,
            "max_width": null,
            "min_height": null,
            "min_width": null,
            "object_fit": null,
            "object_position": null,
            "order": null,
            "overflow": null,
            "overflow_x": null,
            "overflow_y": null,
            "padding": null,
            "right": null,
            "top": null,
            "visibility": null,
            "width": null
          }
        },
        "385d4bcd91b34745990125ec6b99d9fc": {
          "model_module": "@jupyter-widgets/controls",
          "model_name": "DescriptionStyleModel",
          "model_module_version": "1.5.0",
          "state": {
            "_model_module": "@jupyter-widgets/controls",
            "_model_module_version": "1.5.0",
            "_model_name": "DescriptionStyleModel",
            "_view_count": null,
            "_view_module": "@jupyter-widgets/base",
            "_view_module_version": "1.2.0",
            "_view_name": "StyleView",
            "description_width": ""
          }
        },
        "35ee1415ff9f4985a4e0e9501f9302c9": {
          "model_module": "@jupyter-widgets/controls",
          "model_name": "HBoxModel",
          "model_module_version": "1.5.0",
          "state": {
            "_dom_classes": [],
            "_model_module": "@jupyter-widgets/controls",
            "_model_module_version": "1.5.0",
            "_model_name": "HBoxModel",
            "_view_count": null,
            "_view_module": "@jupyter-widgets/controls",
            "_view_module_version": "1.5.0",
            "_view_name": "HBoxView",
            "box_style": "",
            "children": [
              "IPY_MODEL_0b233ec9d7844d70bcee491f4b5771e2",
              "IPY_MODEL_1990a1caeaae4f5e98022a5121b778f9",
              "IPY_MODEL_abf5f28b334a408ca1d27324afad1dc5"
            ],
            "layout": "IPY_MODEL_0b84c48203e04ea8b3c642cebada2b91"
          }
        },
        "0b233ec9d7844d70bcee491f4b5771e2": {
          "model_module": "@jupyter-widgets/controls",
          "model_name": "HTMLModel",
          "model_module_version": "1.5.0",
          "state": {
            "_dom_classes": [],
            "_model_module": "@jupyter-widgets/controls",
            "_model_module_version": "1.5.0",
            "_model_name": "HTMLModel",
            "_view_count": null,
            "_view_module": "@jupyter-widgets/controls",
            "_view_module_version": "1.5.0",
            "_view_name": "HTMLView",
            "description": "",
            "description_tooltip": null,
            "layout": "IPY_MODEL_c617f85929b445daa49c5e9ba5fb8abc",
            "placeholder": "​",
            "style": "IPY_MODEL_b7d2b229399f4898987480704916eed0",
            "value": "pytorch_model.bin: 100%"
          }
        },
        "1990a1caeaae4f5e98022a5121b778f9": {
          "model_module": "@jupyter-widgets/controls",
          "model_name": "FloatProgressModel",
          "model_module_version": "1.5.0",
          "state": {
            "_dom_classes": [],
            "_model_module": "@jupyter-widgets/controls",
            "_model_module_version": "1.5.0",
            "_model_name": "FloatProgressModel",
            "_view_count": null,
            "_view_module": "@jupyter-widgets/controls",
            "_view_module_version": "1.5.0",
            "_view_name": "ProgressView",
            "bar_style": "success",
            "description": "",
            "description_tooltip": null,
            "layout": "IPY_MODEL_decbeaed40a4414b8bc0aa02b5c7a72b",
            "max": 669491321,
            "min": 0,
            "orientation": "horizontal",
            "style": "IPY_MODEL_482585d9069d4b70a56f6b40972ba123",
            "value": 669491321
          }
        },
        "abf5f28b334a408ca1d27324afad1dc5": {
          "model_module": "@jupyter-widgets/controls",
          "model_name": "HTMLModel",
          "model_module_version": "1.5.0",
          "state": {
            "_dom_classes": [],
            "_model_module": "@jupyter-widgets/controls",
            "_model_module_version": "1.5.0",
            "_model_name": "HTMLModel",
            "_view_count": null,
            "_view_module": "@jupyter-widgets/controls",
            "_view_module_version": "1.5.0",
            "_view_name": "HTMLView",
            "description": "",
            "description_tooltip": null,
            "layout": "IPY_MODEL_111de1ab3af142e2b84473f5a120e319",
            "placeholder": "​",
            "style": "IPY_MODEL_05e71c37b63f4d0f9091bcb99a18b884",
            "value": " 669M/669M [00:09&lt;00:00, 36.2MB/s]"
          }
        },
        "0b84c48203e04ea8b3c642cebada2b91": {
          "model_module": "@jupyter-widgets/base",
          "model_name": "LayoutModel",
          "model_module_version": "1.2.0",
          "state": {
            "_model_module": "@jupyter-widgets/base",
            "_model_module_version": "1.2.0",
            "_model_name": "LayoutModel",
            "_view_count": null,
            "_view_module": "@jupyter-widgets/base",
            "_view_module_version": "1.2.0",
            "_view_name": "LayoutView",
            "align_content": null,
            "align_items": null,
            "align_self": null,
            "border": null,
            "bottom": null,
            "display": null,
            "flex": null,
            "flex_flow": null,
            "grid_area": null,
            "grid_auto_columns": null,
            "grid_auto_flow": null,
            "grid_auto_rows": null,
            "grid_column": null,
            "grid_gap": null,
            "grid_row": null,
            "grid_template_areas": null,
            "grid_template_columns": null,
            "grid_template_rows": null,
            "height": null,
            "justify_content": null,
            "justify_items": null,
            "left": null,
            "margin": null,
            "max_height": null,
            "max_width": null,
            "min_height": null,
            "min_width": null,
            "object_fit": null,
            "object_position": null,
            "order": null,
            "overflow": null,
            "overflow_x": null,
            "overflow_y": null,
            "padding": null,
            "right": null,
            "top": null,
            "visibility": null,
            "width": null
          }
        },
        "c617f85929b445daa49c5e9ba5fb8abc": {
          "model_module": "@jupyter-widgets/base",
          "model_name": "LayoutModel",
          "model_module_version": "1.2.0",
          "state": {
            "_model_module": "@jupyter-widgets/base",
            "_model_module_version": "1.2.0",
            "_model_name": "LayoutModel",
            "_view_count": null,
            "_view_module": "@jupyter-widgets/base",
            "_view_module_version": "1.2.0",
            "_view_name": "LayoutView",
            "align_content": null,
            "align_items": null,
            "align_self": null,
            "border": null,
            "bottom": null,
            "display": null,
            "flex": null,
            "flex_flow": null,
            "grid_area": null,
            "grid_auto_columns": null,
            "grid_auto_flow": null,
            "grid_auto_rows": null,
            "grid_column": null,
            "grid_gap": null,
            "grid_row": null,
            "grid_template_areas": null,
            "grid_template_columns": null,
            "grid_template_rows": null,
            "height": null,
            "justify_content": null,
            "justify_items": null,
            "left": null,
            "margin": null,
            "max_height": null,
            "max_width": null,
            "min_height": null,
            "min_width": null,
            "object_fit": null,
            "object_position": null,
            "order": null,
            "overflow": null,
            "overflow_x": null,
            "overflow_y": null,
            "padding": null,
            "right": null,
            "top": null,
            "visibility": null,
            "width": null
          }
        },
        "b7d2b229399f4898987480704916eed0": {
          "model_module": "@jupyter-widgets/controls",
          "model_name": "DescriptionStyleModel",
          "model_module_version": "1.5.0",
          "state": {
            "_model_module": "@jupyter-widgets/controls",
            "_model_module_version": "1.5.0",
            "_model_name": "DescriptionStyleModel",
            "_view_count": null,
            "_view_module": "@jupyter-widgets/base",
            "_view_module_version": "1.2.0",
            "_view_name": "StyleView",
            "description_width": ""
          }
        },
        "decbeaed40a4414b8bc0aa02b5c7a72b": {
          "model_module": "@jupyter-widgets/base",
          "model_name": "LayoutModel",
          "model_module_version": "1.2.0",
          "state": {
            "_model_module": "@jupyter-widgets/base",
            "_model_module_version": "1.2.0",
            "_model_name": "LayoutModel",
            "_view_count": null,
            "_view_module": "@jupyter-widgets/base",
            "_view_module_version": "1.2.0",
            "_view_name": "LayoutView",
            "align_content": null,
            "align_items": null,
            "align_self": null,
            "border": null,
            "bottom": null,
            "display": null,
            "flex": null,
            "flex_flow": null,
            "grid_area": null,
            "grid_auto_columns": null,
            "grid_auto_flow": null,
            "grid_auto_rows": null,
            "grid_column": null,
            "grid_gap": null,
            "grid_row": null,
            "grid_template_areas": null,
            "grid_template_columns": null,
            "grid_template_rows": null,
            "height": null,
            "justify_content": null,
            "justify_items": null,
            "left": null,
            "margin": null,
            "max_height": null,
            "max_width": null,
            "min_height": null,
            "min_width": null,
            "object_fit": null,
            "object_position": null,
            "order": null,
            "overflow": null,
            "overflow_x": null,
            "overflow_y": null,
            "padding": null,
            "right": null,
            "top": null,
            "visibility": null,
            "width": null
          }
        },
        "482585d9069d4b70a56f6b40972ba123": {
          "model_module": "@jupyter-widgets/controls",
          "model_name": "ProgressStyleModel",
          "model_module_version": "1.5.0",
          "state": {
            "_model_module": "@jupyter-widgets/controls",
            "_model_module_version": "1.5.0",
            "_model_name": "ProgressStyleModel",
            "_view_count": null,
            "_view_module": "@jupyter-widgets/base",
            "_view_module_version": "1.2.0",
            "_view_name": "StyleView",
            "bar_color": null,
            "description_width": ""
          }
        },
        "111de1ab3af142e2b84473f5a120e319": {
          "model_module": "@jupyter-widgets/base",
          "model_name": "LayoutModel",
          "model_module_version": "1.2.0",
          "state": {
            "_model_module": "@jupyter-widgets/base",
            "_model_module_version": "1.2.0",
            "_model_name": "LayoutModel",
            "_view_count": null,
            "_view_module": "@jupyter-widgets/base",
            "_view_module_version": "1.2.0",
            "_view_name": "LayoutView",
            "align_content": null,
            "align_items": null,
            "align_self": null,
            "border": null,
            "bottom": null,
            "display": null,
            "flex": null,
            "flex_flow": null,
            "grid_area": null,
            "grid_auto_columns": null,
            "grid_auto_flow": null,
            "grid_auto_rows": null,
            "grid_column": null,
            "grid_gap": null,
            "grid_row": null,
            "grid_template_areas": null,
            "grid_template_columns": null,
            "grid_template_rows": null,
            "height": null,
            "justify_content": null,
            "justify_items": null,
            "left": null,
            "margin": null,
            "max_height": null,
            "max_width": null,
            "min_height": null,
            "min_width": null,
            "object_fit": null,
            "object_position": null,
            "order": null,
            "overflow": null,
            "overflow_x": null,
            "overflow_y": null,
            "padding": null,
            "right": null,
            "top": null,
            "visibility": null,
            "width": null
          }
        },
        "05e71c37b63f4d0f9091bcb99a18b884": {
          "model_module": "@jupyter-widgets/controls",
          "model_name": "DescriptionStyleModel",
          "model_module_version": "1.5.0",
          "state": {
            "_model_module": "@jupyter-widgets/controls",
            "_model_module_version": "1.5.0",
            "_model_name": "DescriptionStyleModel",
            "_view_count": null,
            "_view_module": "@jupyter-widgets/base",
            "_view_module_version": "1.2.0",
            "_view_name": "StyleView",
            "description_width": ""
          }
        },
        "bdc3dc66d6f9420d917274231963ecd5": {
          "model_module": "@jupyter-widgets/controls",
          "model_name": "HBoxModel",
          "model_module_version": "1.5.0",
          "state": {
            "_dom_classes": [],
            "_model_module": "@jupyter-widgets/controls",
            "_model_module_version": "1.5.0",
            "_model_name": "HBoxModel",
            "_view_count": null,
            "_view_module": "@jupyter-widgets/controls",
            "_view_module_version": "1.5.0",
            "_view_name": "HBoxView",
            "box_style": "",
            "children": [
              "IPY_MODEL_79fddd99246f433292ee4d466249675b",
              "IPY_MODEL_2ceaaf348fea4cfa8053e747385bdadb",
              "IPY_MODEL_7e83c104a55d4bbfb5b9af4ee7fecb89"
            ],
            "layout": "IPY_MODEL_d0e2565841924d59983cc0149a9f8c0a"
          }
        },
        "79fddd99246f433292ee4d466249675b": {
          "model_module": "@jupyter-widgets/controls",
          "model_name": "HTMLModel",
          "model_module_version": "1.5.0",
          "state": {
            "_dom_classes": [],
            "_model_module": "@jupyter-widgets/controls",
            "_model_module_version": "1.5.0",
            "_model_name": "HTMLModel",
            "_view_count": null,
            "_view_module": "@jupyter-widgets/controls",
            "_view_module_version": "1.5.0",
            "_view_name": "HTMLView",
            "description": "",
            "description_tooltip": null,
            "layout": "IPY_MODEL_2a3b24de7b2d4962980f22f9da1a7a7d",
            "placeholder": "​",
            "style": "IPY_MODEL_a6a5c846c7fd42e2a62d6fe854dda144",
            "value": "tokenizer_config.json: 100%"
          }
        },
        "2ceaaf348fea4cfa8053e747385bdadb": {
          "model_module": "@jupyter-widgets/controls",
          "model_name": "FloatProgressModel",
          "model_module_version": "1.5.0",
          "state": {
            "_dom_classes": [],
            "_model_module": "@jupyter-widgets/controls",
            "_model_module_version": "1.5.0",
            "_model_name": "FloatProgressModel",
            "_view_count": null,
            "_view_module": "@jupyter-widgets/controls",
            "_view_module_version": "1.5.0",
            "_view_name": "ProgressView",
            "bar_style": "success",
            "description": "",
            "description_tooltip": null,
            "layout": "IPY_MODEL_fefa2fdfa73c42a986fbcfefc245cc4a",
            "max": 39,
            "min": 0,
            "orientation": "horizontal",
            "style": "IPY_MODEL_f52591a93c93443280c6fe26517c9a71",
            "value": 39
          }
        },
        "7e83c104a55d4bbfb5b9af4ee7fecb89": {
          "model_module": "@jupyter-widgets/controls",
          "model_name": "HTMLModel",
          "model_module_version": "1.5.0",
          "state": {
            "_dom_classes": [],
            "_model_module": "@jupyter-widgets/controls",
            "_model_module_version": "1.5.0",
            "_model_name": "HTMLModel",
            "_view_count": null,
            "_view_module": "@jupyter-widgets/controls",
            "_view_module_version": "1.5.0",
            "_view_name": "HTMLView",
            "description": "",
            "description_tooltip": null,
            "layout": "IPY_MODEL_65b25d38372d48acb7d85352d109d8bc",
            "placeholder": "​",
            "style": "IPY_MODEL_5d58a37027ec49958bab766828456eda",
            "value": " 39.0/39.0 [00:00&lt;00:00, 847B/s]"
          }
        },
        "d0e2565841924d59983cc0149a9f8c0a": {
          "model_module": "@jupyter-widgets/base",
          "model_name": "LayoutModel",
          "model_module_version": "1.2.0",
          "state": {
            "_model_module": "@jupyter-widgets/base",
            "_model_module_version": "1.2.0",
            "_model_name": "LayoutModel",
            "_view_count": null,
            "_view_module": "@jupyter-widgets/base",
            "_view_module_version": "1.2.0",
            "_view_name": "LayoutView",
            "align_content": null,
            "align_items": null,
            "align_self": null,
            "border": null,
            "bottom": null,
            "display": null,
            "flex": null,
            "flex_flow": null,
            "grid_area": null,
            "grid_auto_columns": null,
            "grid_auto_flow": null,
            "grid_auto_rows": null,
            "grid_column": null,
            "grid_gap": null,
            "grid_row": null,
            "grid_template_areas": null,
            "grid_template_columns": null,
            "grid_template_rows": null,
            "height": null,
            "justify_content": null,
            "justify_items": null,
            "left": null,
            "margin": null,
            "max_height": null,
            "max_width": null,
            "min_height": null,
            "min_width": null,
            "object_fit": null,
            "object_position": null,
            "order": null,
            "overflow": null,
            "overflow_x": null,
            "overflow_y": null,
            "padding": null,
            "right": null,
            "top": null,
            "visibility": null,
            "width": null
          }
        },
        "2a3b24de7b2d4962980f22f9da1a7a7d": {
          "model_module": "@jupyter-widgets/base",
          "model_name": "LayoutModel",
          "model_module_version": "1.2.0",
          "state": {
            "_model_module": "@jupyter-widgets/base",
            "_model_module_version": "1.2.0",
            "_model_name": "LayoutModel",
            "_view_count": null,
            "_view_module": "@jupyter-widgets/base",
            "_view_module_version": "1.2.0",
            "_view_name": "LayoutView",
            "align_content": null,
            "align_items": null,
            "align_self": null,
            "border": null,
            "bottom": null,
            "display": null,
            "flex": null,
            "flex_flow": null,
            "grid_area": null,
            "grid_auto_columns": null,
            "grid_auto_flow": null,
            "grid_auto_rows": null,
            "grid_column": null,
            "grid_gap": null,
            "grid_row": null,
            "grid_template_areas": null,
            "grid_template_columns": null,
            "grid_template_rows": null,
            "height": null,
            "justify_content": null,
            "justify_items": null,
            "left": null,
            "margin": null,
            "max_height": null,
            "max_width": null,
            "min_height": null,
            "min_width": null,
            "object_fit": null,
            "object_position": null,
            "order": null,
            "overflow": null,
            "overflow_x": null,
            "overflow_y": null,
            "padding": null,
            "right": null,
            "top": null,
            "visibility": null,
            "width": null
          }
        },
        "a6a5c846c7fd42e2a62d6fe854dda144": {
          "model_module": "@jupyter-widgets/controls",
          "model_name": "DescriptionStyleModel",
          "model_module_version": "1.5.0",
          "state": {
            "_model_module": "@jupyter-widgets/controls",
            "_model_module_version": "1.5.0",
            "_model_name": "DescriptionStyleModel",
            "_view_count": null,
            "_view_module": "@jupyter-widgets/base",
            "_view_module_version": "1.2.0",
            "_view_name": "StyleView",
            "description_width": ""
          }
        },
        "fefa2fdfa73c42a986fbcfefc245cc4a": {
          "model_module": "@jupyter-widgets/base",
          "model_name": "LayoutModel",
          "model_module_version": "1.2.0",
          "state": {
            "_model_module": "@jupyter-widgets/base",
            "_model_module_version": "1.2.0",
            "_model_name": "LayoutModel",
            "_view_count": null,
            "_view_module": "@jupyter-widgets/base",
            "_view_module_version": "1.2.0",
            "_view_name": "LayoutView",
            "align_content": null,
            "align_items": null,
            "align_self": null,
            "border": null,
            "bottom": null,
            "display": null,
            "flex": null,
            "flex_flow": null,
            "grid_area": null,
            "grid_auto_columns": null,
            "grid_auto_flow": null,
            "grid_auto_rows": null,
            "grid_column": null,
            "grid_gap": null,
            "grid_row": null,
            "grid_template_areas": null,
            "grid_template_columns": null,
            "grid_template_rows": null,
            "height": null,
            "justify_content": null,
            "justify_items": null,
            "left": null,
            "margin": null,
            "max_height": null,
            "max_width": null,
            "min_height": null,
            "min_width": null,
            "object_fit": null,
            "object_position": null,
            "order": null,
            "overflow": null,
            "overflow_x": null,
            "overflow_y": null,
            "padding": null,
            "right": null,
            "top": null,
            "visibility": null,
            "width": null
          }
        },
        "f52591a93c93443280c6fe26517c9a71": {
          "model_module": "@jupyter-widgets/controls",
          "model_name": "ProgressStyleModel",
          "model_module_version": "1.5.0",
          "state": {
            "_model_module": "@jupyter-widgets/controls",
            "_model_module_version": "1.5.0",
            "_model_name": "ProgressStyleModel",
            "_view_count": null,
            "_view_module": "@jupyter-widgets/base",
            "_view_module_version": "1.2.0",
            "_view_name": "StyleView",
            "bar_color": null,
            "description_width": ""
          }
        },
        "65b25d38372d48acb7d85352d109d8bc": {
          "model_module": "@jupyter-widgets/base",
          "model_name": "LayoutModel",
          "model_module_version": "1.2.0",
          "state": {
            "_model_module": "@jupyter-widgets/base",
            "_model_module_version": "1.2.0",
            "_model_name": "LayoutModel",
            "_view_count": null,
            "_view_module": "@jupyter-widgets/base",
            "_view_module_version": "1.2.0",
            "_view_name": "LayoutView",
            "align_content": null,
            "align_items": null,
            "align_self": null,
            "border": null,
            "bottom": null,
            "display": null,
            "flex": null,
            "flex_flow": null,
            "grid_area": null,
            "grid_auto_columns": null,
            "grid_auto_flow": null,
            "grid_auto_rows": null,
            "grid_column": null,
            "grid_gap": null,
            "grid_row": null,
            "grid_template_areas": null,
            "grid_template_columns": null,
            "grid_template_rows": null,
            "height": null,
            "justify_content": null,
            "justify_items": null,
            "left": null,
            "margin": null,
            "max_height": null,
            "max_width": null,
            "min_height": null,
            "min_width": null,
            "object_fit": null,
            "object_position": null,
            "order": null,
            "overflow": null,
            "overflow_x": null,
            "overflow_y": null,
            "padding": null,
            "right": null,
            "top": null,
            "visibility": null,
            "width": null
          }
        },
        "5d58a37027ec49958bab766828456eda": {
          "model_module": "@jupyter-widgets/controls",
          "model_name": "DescriptionStyleModel",
          "model_module_version": "1.5.0",
          "state": {
            "_model_module": "@jupyter-widgets/controls",
            "_model_module_version": "1.5.0",
            "_model_name": "DescriptionStyleModel",
            "_view_count": null,
            "_view_module": "@jupyter-widgets/base",
            "_view_module_version": "1.2.0",
            "_view_name": "StyleView",
            "description_width": ""
          }
        },
        "99ad9b06e75b44619444871bae2a4ad0": {
          "model_module": "@jupyter-widgets/controls",
          "model_name": "HBoxModel",
          "model_module_version": "1.5.0",
          "state": {
            "_dom_classes": [],
            "_model_module": "@jupyter-widgets/controls",
            "_model_module_version": "1.5.0",
            "_model_name": "HBoxModel",
            "_view_count": null,
            "_view_module": "@jupyter-widgets/controls",
            "_view_module_version": "1.5.0",
            "_view_name": "HBoxView",
            "box_style": "",
            "children": [
              "IPY_MODEL_9c6cc5cd722841d5aa5f5c434d838211",
              "IPY_MODEL_f41dc85b275043dcaf9d077226384d22",
              "IPY_MODEL_50ce1f7f28bf49949a10889da3cb4f43"
            ],
            "layout": "IPY_MODEL_1fb127112e99445f9258728949eecacd"
          }
        },
        "9c6cc5cd722841d5aa5f5c434d838211": {
          "model_module": "@jupyter-widgets/controls",
          "model_name": "HTMLModel",
          "model_module_version": "1.5.0",
          "state": {
            "_dom_classes": [],
            "_model_module": "@jupyter-widgets/controls",
            "_model_module_version": "1.5.0",
            "_model_name": "HTMLModel",
            "_view_count": null,
            "_view_module": "@jupyter-widgets/controls",
            "_view_module_version": "1.5.0",
            "_view_name": "HTMLView",
            "description": "",
            "description_tooltip": null,
            "layout": "IPY_MODEL_6901275ba2aa466e97b5b6241d86df8c",
            "placeholder": "​",
            "style": "IPY_MODEL_3eb3e22235ac4ec295419964ce57f188",
            "value": "vocab.txt: 100%"
          }
        },
        "f41dc85b275043dcaf9d077226384d22": {
          "model_module": "@jupyter-widgets/controls",
          "model_name": "FloatProgressModel",
          "model_module_version": "1.5.0",
          "state": {
            "_dom_classes": [],
            "_model_module": "@jupyter-widgets/controls",
            "_model_module_version": "1.5.0",
            "_model_name": "FloatProgressModel",
            "_view_count": null,
            "_view_module": "@jupyter-widgets/controls",
            "_view_module_version": "1.5.0",
            "_view_name": "ProgressView",
            "bar_style": "success",
            "description": "",
            "description_tooltip": null,
            "layout": "IPY_MODEL_0b3ecc56eb044c3b9d0229b3613f5fdf",
            "max": 871891,
            "min": 0,
            "orientation": "horizontal",
            "style": "IPY_MODEL_eb1a697020644d79baa1ca5f38284ae1",
            "value": 871891
          }
        },
        "50ce1f7f28bf49949a10889da3cb4f43": {
          "model_module": "@jupyter-widgets/controls",
          "model_name": "HTMLModel",
          "model_module_version": "1.5.0",
          "state": {
            "_dom_classes": [],
            "_model_module": "@jupyter-widgets/controls",
            "_model_module_version": "1.5.0",
            "_model_name": "HTMLModel",
            "_view_count": null,
            "_view_module": "@jupyter-widgets/controls",
            "_view_module_version": "1.5.0",
            "_view_name": "HTMLView",
            "description": "",
            "description_tooltip": null,
            "layout": "IPY_MODEL_baedb15c81244a81b9d8d4c4554ba8d8",
            "placeholder": "​",
            "style": "IPY_MODEL_a1bd86b458f94c549b649f9d7ed255e2",
            "value": " 872k/872k [00:00&lt;00:00, 8.97MB/s]"
          }
        },
        "1fb127112e99445f9258728949eecacd": {
          "model_module": "@jupyter-widgets/base",
          "model_name": "LayoutModel",
          "model_module_version": "1.2.0",
          "state": {
            "_model_module": "@jupyter-widgets/base",
            "_model_module_version": "1.2.0",
            "_model_name": "LayoutModel",
            "_view_count": null,
            "_view_module": "@jupyter-widgets/base",
            "_view_module_version": "1.2.0",
            "_view_name": "LayoutView",
            "align_content": null,
            "align_items": null,
            "align_self": null,
            "border": null,
            "bottom": null,
            "display": null,
            "flex": null,
            "flex_flow": null,
            "grid_area": null,
            "grid_auto_columns": null,
            "grid_auto_flow": null,
            "grid_auto_rows": null,
            "grid_column": null,
            "grid_gap": null,
            "grid_row": null,
            "grid_template_areas": null,
            "grid_template_columns": null,
            "grid_template_rows": null,
            "height": null,
            "justify_content": null,
            "justify_items": null,
            "left": null,
            "margin": null,
            "max_height": null,
            "max_width": null,
            "min_height": null,
            "min_width": null,
            "object_fit": null,
            "object_position": null,
            "order": null,
            "overflow": null,
            "overflow_x": null,
            "overflow_y": null,
            "padding": null,
            "right": null,
            "top": null,
            "visibility": null,
            "width": null
          }
        },
        "6901275ba2aa466e97b5b6241d86df8c": {
          "model_module": "@jupyter-widgets/base",
          "model_name": "LayoutModel",
          "model_module_version": "1.2.0",
          "state": {
            "_model_module": "@jupyter-widgets/base",
            "_model_module_version": "1.2.0",
            "_model_name": "LayoutModel",
            "_view_count": null,
            "_view_module": "@jupyter-widgets/base",
            "_view_module_version": "1.2.0",
            "_view_name": "LayoutView",
            "align_content": null,
            "align_items": null,
            "align_self": null,
            "border": null,
            "bottom": null,
            "display": null,
            "flex": null,
            "flex_flow": null,
            "grid_area": null,
            "grid_auto_columns": null,
            "grid_auto_flow": null,
            "grid_auto_rows": null,
            "grid_column": null,
            "grid_gap": null,
            "grid_row": null,
            "grid_template_areas": null,
            "grid_template_columns": null,
            "grid_template_rows": null,
            "height": null,
            "justify_content": null,
            "justify_items": null,
            "left": null,
            "margin": null,
            "max_height": null,
            "max_width": null,
            "min_height": null,
            "min_width": null,
            "object_fit": null,
            "object_position": null,
            "order": null,
            "overflow": null,
            "overflow_x": null,
            "overflow_y": null,
            "padding": null,
            "right": null,
            "top": null,
            "visibility": null,
            "width": null
          }
        },
        "3eb3e22235ac4ec295419964ce57f188": {
          "model_module": "@jupyter-widgets/controls",
          "model_name": "DescriptionStyleModel",
          "model_module_version": "1.5.0",
          "state": {
            "_model_module": "@jupyter-widgets/controls",
            "_model_module_version": "1.5.0",
            "_model_name": "DescriptionStyleModel",
            "_view_count": null,
            "_view_module": "@jupyter-widgets/base",
            "_view_module_version": "1.2.0",
            "_view_name": "StyleView",
            "description_width": ""
          }
        },
        "0b3ecc56eb044c3b9d0229b3613f5fdf": {
          "model_module": "@jupyter-widgets/base",
          "model_name": "LayoutModel",
          "model_module_version": "1.2.0",
          "state": {
            "_model_module": "@jupyter-widgets/base",
            "_model_module_version": "1.2.0",
            "_model_name": "LayoutModel",
            "_view_count": null,
            "_view_module": "@jupyter-widgets/base",
            "_view_module_version": "1.2.0",
            "_view_name": "LayoutView",
            "align_content": null,
            "align_items": null,
            "align_self": null,
            "border": null,
            "bottom": null,
            "display": null,
            "flex": null,
            "flex_flow": null,
            "grid_area": null,
            "grid_auto_columns": null,
            "grid_auto_flow": null,
            "grid_auto_rows": null,
            "grid_column": null,
            "grid_gap": null,
            "grid_row": null,
            "grid_template_areas": null,
            "grid_template_columns": null,
            "grid_template_rows": null,
            "height": null,
            "justify_content": null,
            "justify_items": null,
            "left": null,
            "margin": null,
            "max_height": null,
            "max_width": null,
            "min_height": null,
            "min_width": null,
            "object_fit": null,
            "object_position": null,
            "order": null,
            "overflow": null,
            "overflow_x": null,
            "overflow_y": null,
            "padding": null,
            "right": null,
            "top": null,
            "visibility": null,
            "width": null
          }
        },
        "eb1a697020644d79baa1ca5f38284ae1": {
          "model_module": "@jupyter-widgets/controls",
          "model_name": "ProgressStyleModel",
          "model_module_version": "1.5.0",
          "state": {
            "_model_module": "@jupyter-widgets/controls",
            "_model_module_version": "1.5.0",
            "_model_name": "ProgressStyleModel",
            "_view_count": null,
            "_view_module": "@jupyter-widgets/base",
            "_view_module_version": "1.2.0",
            "_view_name": "StyleView",
            "bar_color": null,
            "description_width": ""
          }
        },
        "baedb15c81244a81b9d8d4c4554ba8d8": {
          "model_module": "@jupyter-widgets/base",
          "model_name": "LayoutModel",
          "model_module_version": "1.2.0",
          "state": {
            "_model_module": "@jupyter-widgets/base",
            "_model_module_version": "1.2.0",
            "_model_name": "LayoutModel",
            "_view_count": null,
            "_view_module": "@jupyter-widgets/base",
            "_view_module_version": "1.2.0",
            "_view_name": "LayoutView",
            "align_content": null,
            "align_items": null,
            "align_self": null,
            "border": null,
            "bottom": null,
            "display": null,
            "flex": null,
            "flex_flow": null,
            "grid_area": null,
            "grid_auto_columns": null,
            "grid_auto_flow": null,
            "grid_auto_rows": null,
            "grid_column": null,
            "grid_gap": null,
            "grid_row": null,
            "grid_template_areas": null,
            "grid_template_columns": null,
            "grid_template_rows": null,
            "height": null,
            "justify_content": null,
            "justify_items": null,
            "left": null,
            "margin": null,
            "max_height": null,
            "max_width": null,
            "min_height": null,
            "min_width": null,
            "object_fit": null,
            "object_position": null,
            "order": null,
            "overflow": null,
            "overflow_x": null,
            "overflow_y": null,
            "padding": null,
            "right": null,
            "top": null,
            "visibility": null,
            "width": null
          }
        },
        "a1bd86b458f94c549b649f9d7ed255e2": {
          "model_module": "@jupyter-widgets/controls",
          "model_name": "DescriptionStyleModel",
          "model_module_version": "1.5.0",
          "state": {
            "_model_module": "@jupyter-widgets/controls",
            "_model_module_version": "1.5.0",
            "_model_name": "DescriptionStyleModel",
            "_view_count": null,
            "_view_module": "@jupyter-widgets/base",
            "_view_module_version": "1.2.0",
            "_view_name": "StyleView",
            "description_width": ""
          }
        },
        "ebeaa0c94df64ec6b339688b4386fed3": {
          "model_module": "@jupyter-widgets/controls",
          "model_name": "HBoxModel",
          "model_module_version": "1.5.0",
          "state": {
            "_dom_classes": [],
            "_model_module": "@jupyter-widgets/controls",
            "_model_module_version": "1.5.0",
            "_model_name": "HBoxModel",
            "_view_count": null,
            "_view_module": "@jupyter-widgets/controls",
            "_view_module_version": "1.5.0",
            "_view_name": "HBoxView",
            "box_style": "",
            "children": [
              "IPY_MODEL_2a76b45bb6f344aaa598a82c064169c7",
              "IPY_MODEL_d9f4ce59d00f4339990429b3d6ad7801",
              "IPY_MODEL_908cb5a4f8054745b31bdcba5e24fb15"
            ],
            "layout": "IPY_MODEL_52a9dc9b2e254c6c8fdccc75246aa915"
          }
        },
        "2a76b45bb6f344aaa598a82c064169c7": {
          "model_module": "@jupyter-widgets/controls",
          "model_name": "HTMLModel",
          "model_module_version": "1.5.0",
          "state": {
            "_dom_classes": [],
            "_model_module": "@jupyter-widgets/controls",
            "_model_module_version": "1.5.0",
            "_model_name": "HTMLModel",
            "_view_count": null,
            "_view_module": "@jupyter-widgets/controls",
            "_view_module_version": "1.5.0",
            "_view_name": "HTMLView",
            "description": "",
            "description_tooltip": null,
            "layout": "IPY_MODEL_c9e2fc3467e24579b9f4dbf5d1b2d6f7",
            "placeholder": "​",
            "style": "IPY_MODEL_4a614cecf52c43138ea199e57278d359",
            "value": "special_tokens_map.json: 100%"
          }
        },
        "d9f4ce59d00f4339990429b3d6ad7801": {
          "model_module": "@jupyter-widgets/controls",
          "model_name": "FloatProgressModel",
          "model_module_version": "1.5.0",
          "state": {
            "_dom_classes": [],
            "_model_module": "@jupyter-widgets/controls",
            "_model_module_version": "1.5.0",
            "_model_name": "FloatProgressModel",
            "_view_count": null,
            "_view_module": "@jupyter-widgets/controls",
            "_view_module_version": "1.5.0",
            "_view_name": "ProgressView",
            "bar_style": "success",
            "description": "",
            "description_tooltip": null,
            "layout": "IPY_MODEL_b0cea13a1a5c49f7a537fd1ec04cdee6",
            "max": 112,
            "min": 0,
            "orientation": "horizontal",
            "style": "IPY_MODEL_cabbf38f6c9e464db55e015d86881f0a",
            "value": 112
          }
        },
        "908cb5a4f8054745b31bdcba5e24fb15": {
          "model_module": "@jupyter-widgets/controls",
          "model_name": "HTMLModel",
          "model_module_version": "1.5.0",
          "state": {
            "_dom_classes": [],
            "_model_module": "@jupyter-widgets/controls",
            "_model_module_version": "1.5.0",
            "_model_name": "HTMLModel",
            "_view_count": null,
            "_view_module": "@jupyter-widgets/controls",
            "_view_module_version": "1.5.0",
            "_view_name": "HTMLView",
            "description": "",
            "description_tooltip": null,
            "layout": "IPY_MODEL_8195357ee2da45f98e589d9e71d0160f",
            "placeholder": "​",
            "style": "IPY_MODEL_9f4bc91247b64cf7846ea7342492f351",
            "value": " 112/112 [00:00&lt;00:00, 2.78kB/s]"
          }
        },
        "52a9dc9b2e254c6c8fdccc75246aa915": {
          "model_module": "@jupyter-widgets/base",
          "model_name": "LayoutModel",
          "model_module_version": "1.2.0",
          "state": {
            "_model_module": "@jupyter-widgets/base",
            "_model_module_version": "1.2.0",
            "_model_name": "LayoutModel",
            "_view_count": null,
            "_view_module": "@jupyter-widgets/base",
            "_view_module_version": "1.2.0",
            "_view_name": "LayoutView",
            "align_content": null,
            "align_items": null,
            "align_self": null,
            "border": null,
            "bottom": null,
            "display": null,
            "flex": null,
            "flex_flow": null,
            "grid_area": null,
            "grid_auto_columns": null,
            "grid_auto_flow": null,
            "grid_auto_rows": null,
            "grid_column": null,
            "grid_gap": null,
            "grid_row": null,
            "grid_template_areas": null,
            "grid_template_columns": null,
            "grid_template_rows": null,
            "height": null,
            "justify_content": null,
            "justify_items": null,
            "left": null,
            "margin": null,
            "max_height": null,
            "max_width": null,
            "min_height": null,
            "min_width": null,
            "object_fit": null,
            "object_position": null,
            "order": null,
            "overflow": null,
            "overflow_x": null,
            "overflow_y": null,
            "padding": null,
            "right": null,
            "top": null,
            "visibility": null,
            "width": null
          }
        },
        "c9e2fc3467e24579b9f4dbf5d1b2d6f7": {
          "model_module": "@jupyter-widgets/base",
          "model_name": "LayoutModel",
          "model_module_version": "1.2.0",
          "state": {
            "_model_module": "@jupyter-widgets/base",
            "_model_module_version": "1.2.0",
            "_model_name": "LayoutModel",
            "_view_count": null,
            "_view_module": "@jupyter-widgets/base",
            "_view_module_version": "1.2.0",
            "_view_name": "LayoutView",
            "align_content": null,
            "align_items": null,
            "align_self": null,
            "border": null,
            "bottom": null,
            "display": null,
            "flex": null,
            "flex_flow": null,
            "grid_area": null,
            "grid_auto_columns": null,
            "grid_auto_flow": null,
            "grid_auto_rows": null,
            "grid_column": null,
            "grid_gap": null,
            "grid_row": null,
            "grid_template_areas": null,
            "grid_template_columns": null,
            "grid_template_rows": null,
            "height": null,
            "justify_content": null,
            "justify_items": null,
            "left": null,
            "margin": null,
            "max_height": null,
            "max_width": null,
            "min_height": null,
            "min_width": null,
            "object_fit": null,
            "object_position": null,
            "order": null,
            "overflow": null,
            "overflow_x": null,
            "overflow_y": null,
            "padding": null,
            "right": null,
            "top": null,
            "visibility": null,
            "width": null
          }
        },
        "4a614cecf52c43138ea199e57278d359": {
          "model_module": "@jupyter-widgets/controls",
          "model_name": "DescriptionStyleModel",
          "model_module_version": "1.5.0",
          "state": {
            "_model_module": "@jupyter-widgets/controls",
            "_model_module_version": "1.5.0",
            "_model_name": "DescriptionStyleModel",
            "_view_count": null,
            "_view_module": "@jupyter-widgets/base",
            "_view_module_version": "1.2.0",
            "_view_name": "StyleView",
            "description_width": ""
          }
        },
        "b0cea13a1a5c49f7a537fd1ec04cdee6": {
          "model_module": "@jupyter-widgets/base",
          "model_name": "LayoutModel",
          "model_module_version": "1.2.0",
          "state": {
            "_model_module": "@jupyter-widgets/base",
            "_model_module_version": "1.2.0",
            "_model_name": "LayoutModel",
            "_view_count": null,
            "_view_module": "@jupyter-widgets/base",
            "_view_module_version": "1.2.0",
            "_view_name": "LayoutView",
            "align_content": null,
            "align_items": null,
            "align_self": null,
            "border": null,
            "bottom": null,
            "display": null,
            "flex": null,
            "flex_flow": null,
            "grid_area": null,
            "grid_auto_columns": null,
            "grid_auto_flow": null,
            "grid_auto_rows": null,
            "grid_column": null,
            "grid_gap": null,
            "grid_row": null,
            "grid_template_areas": null,
            "grid_template_columns": null,
            "grid_template_rows": null,
            "height": null,
            "justify_content": null,
            "justify_items": null,
            "left": null,
            "margin": null,
            "max_height": null,
            "max_width": null,
            "min_height": null,
            "min_width": null,
            "object_fit": null,
            "object_position": null,
            "order": null,
            "overflow": null,
            "overflow_x": null,
            "overflow_y": null,
            "padding": null,
            "right": null,
            "top": null,
            "visibility": null,
            "width": null
          }
        },
        "cabbf38f6c9e464db55e015d86881f0a": {
          "model_module": "@jupyter-widgets/controls",
          "model_name": "ProgressStyleModel",
          "model_module_version": "1.5.0",
          "state": {
            "_model_module": "@jupyter-widgets/controls",
            "_model_module_version": "1.5.0",
            "_model_name": "ProgressStyleModel",
            "_view_count": null,
            "_view_module": "@jupyter-widgets/base",
            "_view_module_version": "1.2.0",
            "_view_name": "StyleView",
            "bar_color": null,
            "description_width": ""
          }
        },
        "8195357ee2da45f98e589d9e71d0160f": {
          "model_module": "@jupyter-widgets/base",
          "model_name": "LayoutModel",
          "model_module_version": "1.2.0",
          "state": {
            "_model_module": "@jupyter-widgets/base",
            "_model_module_version": "1.2.0",
            "_model_name": "LayoutModel",
            "_view_count": null,
            "_view_module": "@jupyter-widgets/base",
            "_view_module_version": "1.2.0",
            "_view_name": "LayoutView",
            "align_content": null,
            "align_items": null,
            "align_self": null,
            "border": null,
            "bottom": null,
            "display": null,
            "flex": null,
            "flex_flow": null,
            "grid_area": null,
            "grid_auto_columns": null,
            "grid_auto_flow": null,
            "grid_auto_rows": null,
            "grid_column": null,
            "grid_gap": null,
            "grid_row": null,
            "grid_template_areas": null,
            "grid_template_columns": null,
            "grid_template_rows": null,
            "height": null,
            "justify_content": null,
            "justify_items": null,
            "left": null,
            "margin": null,
            "max_height": null,
            "max_width": null,
            "min_height": null,
            "min_width": null,
            "object_fit": null,
            "object_position": null,
            "order": null,
            "overflow": null,
            "overflow_x": null,
            "overflow_y": null,
            "padding": null,
            "right": null,
            "top": null,
            "visibility": null,
            "width": null
          }
        },
        "9f4bc91247b64cf7846ea7342492f351": {
          "model_module": "@jupyter-widgets/controls",
          "model_name": "DescriptionStyleModel",
          "model_module_version": "1.5.0",
          "state": {
            "_model_module": "@jupyter-widgets/controls",
            "_model_module_version": "1.5.0",
            "_model_name": "DescriptionStyleModel",
            "_view_count": null,
            "_view_module": "@jupyter-widgets/base",
            "_view_module_version": "1.2.0",
            "_view_name": "StyleView",
            "description_width": ""
          }
        }
      }
    }
  },
  "nbformat": 4,
  "nbformat_minor": 0
}